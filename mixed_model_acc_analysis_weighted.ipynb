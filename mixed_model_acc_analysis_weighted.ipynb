{
 "cells": [
  {
   "cell_type": "code",
   "execution_count": 1,
   "metadata": {},
   "outputs": [],
   "source": [
    "import os\n",
    "import numpy as np\n",
    "import pandas as pd\n",
    "import matplotlib.pyplot as plt\n",
    "import torch\n",
    "from torchvision import transforms\n",
    "import torch.nn as nn\n",
    "from PIL import Image\n",
    "\n",
    "class2num = {'broad leaves': 0, 'coniferous tree': 1, 'grass land': 2, 'hard ground': 3, 'leafless': 4, 'stalk': 5, 'stone': 6, 'trunk': 7, 'water': 8, 'wire': 9}\n",
    "num2class = {0: 'broad leaves', 1: 'coniferous tree', 2: 'grass land', 3: 'hard ground', 4: 'leafless', 5: 'stalk', 6: 'stone', 7: 'trunk', 8: 'water', 9: 'wire'}\n",
    "id2num = {\n",
    "        '0' : class2num['broad leaves'],\n",
    "        '1' : class2num['coniferous tree'],\n",
    "        '2' : class2num['hard ground'],\n",
    "        '3' : class2num['leafless'],\n",
    "        '4' : class2num['stalk'],\n",
    "        '5' : class2num['stone'],\n",
    "        '6' : class2num['trunk'],\n",
    "        '7' : class2num['grass land'],\n",
    "        '8' : class2num['water'],\n",
    "        '9' : class2num['wire'],\n",
    "        }"
   ]
  },
  {
   "cell_type": "code",
   "execution_count": 3,
   "metadata": {},
   "outputs": [],
   "source": [
    "alexnet = torch.load('D:\\experiment_2020_12_02/paper_data_bkp/5_5/alexnet-111_10_5_5.pkl', map_location=torch.device('cpu'))\n",
    "vgg19 = torch.load('D:\\experiment_2020_12_02/paper_data_bkp/5_5/vgg19-111_8_5_5.pkl', map_location=torch.device('cpu'))\n",
    "res50 = torch.load('D:\\experiment_2020_12_02/paper_data_bkp/5_5/resnet50-111_3_5_5.pkl', map_location=torch.device('cpu'))\n",
    "res152 = torch.load('D:\\experiment_2020_12_02/paper_data_bkp/5_5/resnet152-111_5_5_5.pkl', map_location=torch.device('cpu'))\n",
    "\n",
    "models = {\n",
    "    'AlexNet'    :alexnet,\n",
    "    'VGG19'     :vgg19,\n",
    "    'ResNet50'  :res50,\n",
    "    'ResNet152' :res152\n",
    "}\n",
    "resize = 224\n",
    "mean = [0.485, 0.456, 0.406]\n",
    "std = [0.229, 0.224, 0.225]\n",
    "device = torch.device('cpu')\n",
    "\n",
    "data_transforms = transforms.Compose([\n",
    "    transforms.Resize((resize, resize)),\n",
    "    transforms.ToTensor(),\n",
    "    transforms.Normalize(mean, std)\n",
    "    ])\n"
   ]
  },
  {
   "cell_type": "code",
   "execution_count": 5,
   "metadata": {},
   "outputs": [
    {
     "name": "stdout",
     "output_type": "stream",
     "text": [
      "Collecting tensorboardX\n",
      "  Downloading tensorboardX-2.1-py2.py3-none-any.whl (308 kB)\n",
      "Requirement already satisfied: numpy in c:\\anaconda3\\lib\\site-packages (from tensorboardX) (1.16.5)\n",
      "Requirement already satisfied: protobuf>=3.8.0 in c:\\anaconda3\\lib\\site-packages (from tensorboardX) (3.12.2)\n",
      "Requirement already satisfied: six in c:\\anaconda3\\lib\\site-packages (from tensorboardX) (1.12.0)\n",
      "Requirement already satisfied: setuptools in c:\\anaconda3\\lib\\site-packages (from protobuf>=3.8.0->tensorboardX) (41.4.0)\n",
      "Installing collected packages: tensorboardX\n",
      "Successfully installed tensorboardX-2.1\n"
     ]
    },
    {
     "name": "stderr",
     "output_type": "stream",
     "text": [
      "WARNING: pip is being invoked by an old script wrapper. This will fail in a future version of pip.\n",
      "Please see https://github.com/pypa/pip/issues/5599 for advice on fixing the underlying issue.\n",
      "To avoid this problem you can invoke Python with '-m pip' instead of running pip directly.\n"
     ]
    }
   ],
   "source": [
    "!pip install tensorboardX"
   ]
  },
  {
   "cell_type": "code",
   "execution_count": 11,
   "metadata": {},
   "outputs": [
    {
     "ename": "SyntaxError",
     "evalue": "invalid syntax (<ipython-input-11-413b1afb514d>, line 7)",
     "output_type": "error",
     "traceback": [
      "\u001b[1;36m  File \u001b[1;32m\"<ipython-input-11-413b1afb514d>\"\u001b[1;36m, line \u001b[1;32m7\u001b[0m\n\u001b[1;33m    require 'image'\u001b[0m\n\u001b[1;37m                  ^\u001b[0m\n\u001b[1;31mSyntaxError\u001b[0m\u001b[1;31m:\u001b[0m invalid syntax\n"
     ]
    }
   ],
   "source": [
    "import visdom\n",
    "import numpy as np\n",
    "vis = visdom.Visdom()\n",
    "vis.text('Hello, world!')\n",
    "vis.image(np.ones((3, 10, 10)))\n",
    "\n",
    "require 'image'\n",
    "vis = require 'visdom'()"
   ]
  },
  {
   "cell_type": "code",
   "execution_count": 9,
   "metadata": {},
   "outputs": [
    {
     "ename": "TypeError",
     "evalue": "'NoneType' object is not iterable",
     "output_type": "error",
     "traceback": [
      "\u001b[1;31m---------------------------------------------------------------------------\u001b[0m",
      "\u001b[1;31mTypeError\u001b[0m                                 Traceback (most recent call last)",
      "\u001b[1;32m<ipython-input-9-62c486ca531c>\u001b[0m in \u001b[0;36m<module>\u001b[1;34m\u001b[0m\n\u001b[0;32m      1\u001b[0m \u001b[0mmodel\u001b[0m \u001b[1;33m=\u001b[0m \u001b[0malexnet\u001b[0m\u001b[1;33m\u001b[0m\u001b[1;33m\u001b[0m\u001b[0m\n\u001b[1;32m----> 2\u001b[1;33m \u001b[0mwriter\u001b[0m\u001b[1;33m.\u001b[0m\u001b[0madd_graph\u001b[0m\u001b[1;33m(\u001b[0m\u001b[0mmodel\u001b[0m\u001b[1;33m,\u001b[0m \u001b[0minput_to_model\u001b[0m\u001b[1;33m=\u001b[0m\u001b[1;32mNone\u001b[0m\u001b[1;33m,\u001b[0m \u001b[0mverbose\u001b[0m\u001b[1;33m=\u001b[0m\u001b[1;32mFalse\u001b[0m\u001b[1;33m,\u001b[0m\u001b[1;33m)\u001b[0m\u001b[1;33m\u001b[0m\u001b[1;33m\u001b[0m\u001b[0m\n\u001b[0m",
      "\u001b[1;32mC:\\Anaconda3\\lib\\site-packages\\tensorboardX\\writer.py\u001b[0m in \u001b[0;36madd_graph\u001b[1;34m(self, model, input_to_model, verbose)\u001b[0m\n\u001b[0;32m    792\u001b[0m         \"\"\"\n\u001b[0;32m    793\u001b[0m         \u001b[1;32mfrom\u001b[0m \u001b[0mtorch\u001b[0m\u001b[1;33m.\u001b[0m\u001b[0mutils\u001b[0m\u001b[1;33m.\u001b[0m\u001b[0mtensorboard\u001b[0m\u001b[1;33m.\u001b[0m\u001b[0m_pytorch_graph\u001b[0m \u001b[1;32mimport\u001b[0m \u001b[0mgraph\u001b[0m\u001b[1;33m\u001b[0m\u001b[1;33m\u001b[0m\u001b[0m\n\u001b[1;32m--> 794\u001b[1;33m         \u001b[0mself\u001b[0m\u001b[1;33m.\u001b[0m\u001b[0m_get_file_writer\u001b[0m\u001b[1;33m(\u001b[0m\u001b[1;33m)\u001b[0m\u001b[1;33m.\u001b[0m\u001b[0madd_graph\u001b[0m\u001b[1;33m(\u001b[0m\u001b[0mgraph\u001b[0m\u001b[1;33m(\u001b[0m\u001b[0mmodel\u001b[0m\u001b[1;33m,\u001b[0m \u001b[0minput_to_model\u001b[0m\u001b[1;33m,\u001b[0m \u001b[0mverbose\u001b[0m\u001b[1;33m)\u001b[0m\u001b[1;33m)\u001b[0m\u001b[1;33m\u001b[0m\u001b[1;33m\u001b[0m\u001b[0m\n\u001b[0m\u001b[0;32m    795\u001b[0m \u001b[1;33m\u001b[0m\u001b[0m\n\u001b[0;32m    796\u001b[0m     \u001b[1;32mdef\u001b[0m \u001b[0madd_graph_deprecated\u001b[0m\u001b[1;33m(\u001b[0m\u001b[0mself\u001b[0m\u001b[1;33m,\u001b[0m \u001b[0mmodel\u001b[0m\u001b[1;33m,\u001b[0m \u001b[0minput_to_model\u001b[0m\u001b[1;33m=\u001b[0m\u001b[1;32mNone\u001b[0m\u001b[1;33m,\u001b[0m \u001b[0mverbose\u001b[0m\u001b[1;33m=\u001b[0m\u001b[1;32mFalse\u001b[0m\u001b[1;33m,\u001b[0m \u001b[0mprofile_with_cuda\u001b[0m\u001b[1;33m=\u001b[0m\u001b[1;32mFalse\u001b[0m\u001b[1;33m,\u001b[0m \u001b[1;33m**\u001b[0m\u001b[0mkwargs\u001b[0m\u001b[1;33m)\u001b[0m\u001b[1;33m:\u001b[0m\u001b[1;33m\u001b[0m\u001b[1;33m\u001b[0m\u001b[0m\n",
      "\u001b[1;32mC:\\Anaconda3\\lib\\site-packages\\torch\\utils\\tensorboard\\_pytorch_graph.py\u001b[0m in \u001b[0;36mgraph\u001b[1;34m(model, args, verbose)\u001b[0m\n\u001b[0;32m    283\u001b[0m     \u001b[1;32mwith\u001b[0m \u001b[0mtorch\u001b[0m\u001b[1;33m.\u001b[0m\u001b[0monnx\u001b[0m\u001b[1;33m.\u001b[0m\u001b[0mset_training\u001b[0m\u001b[1;33m(\u001b[0m\u001b[0mmodel\u001b[0m\u001b[1;33m,\u001b[0m \u001b[1;32mFalse\u001b[0m\u001b[1;33m)\u001b[0m\u001b[1;33m:\u001b[0m  \u001b[1;31m# TODO: move outside of torch.onnx?\u001b[0m\u001b[1;33m\u001b[0m\u001b[1;33m\u001b[0m\u001b[0m\n\u001b[0;32m    284\u001b[0m         \u001b[1;32mtry\u001b[0m\u001b[1;33m:\u001b[0m\u001b[1;33m\u001b[0m\u001b[1;33m\u001b[0m\u001b[0m\n\u001b[1;32m--> 285\u001b[1;33m             \u001b[0mtrace\u001b[0m \u001b[1;33m=\u001b[0m \u001b[0mtorch\u001b[0m\u001b[1;33m.\u001b[0m\u001b[0mjit\u001b[0m\u001b[1;33m.\u001b[0m\u001b[0mtrace\u001b[0m\u001b[1;33m(\u001b[0m\u001b[0mmodel\u001b[0m\u001b[1;33m,\u001b[0m \u001b[0margs\u001b[0m\u001b[1;33m)\u001b[0m\u001b[1;33m\u001b[0m\u001b[1;33m\u001b[0m\u001b[0m\n\u001b[0m\u001b[0;32m    286\u001b[0m             \u001b[0mgraph\u001b[0m \u001b[1;33m=\u001b[0m \u001b[0mtrace\u001b[0m\u001b[1;33m.\u001b[0m\u001b[0mgraph\u001b[0m\u001b[1;33m\u001b[0m\u001b[1;33m\u001b[0m\u001b[0m\n\u001b[0;32m    287\u001b[0m             \u001b[0mtorch\u001b[0m\u001b[1;33m.\u001b[0m\u001b[0m_C\u001b[0m\u001b[1;33m.\u001b[0m\u001b[0m_jit_pass_inline\u001b[0m\u001b[1;33m(\u001b[0m\u001b[0mgraph\u001b[0m\u001b[1;33m)\u001b[0m\u001b[1;33m\u001b[0m\u001b[1;33m\u001b[0m\u001b[0m\n",
      "\u001b[1;32mC:\\Anaconda3\\lib\\site-packages\\torch\\jit\\__init__.py\u001b[0m in \u001b[0;36mtrace\u001b[1;34m(func, example_inputs, optimize, check_trace, check_inputs, check_tolerance, _force_outplace, _module_class, _compilation_unit)\u001b[0m\n\u001b[0;32m    880\u001b[0m         return trace_module(func, {'forward': example_inputs}, None,\n\u001b[0;32m    881\u001b[0m                             \u001b[0mcheck_trace\u001b[0m\u001b[1;33m,\u001b[0m \u001b[0mwrap_check_inputs\u001b[0m\u001b[1;33m(\u001b[0m\u001b[0mcheck_inputs\u001b[0m\u001b[1;33m)\u001b[0m\u001b[1;33m,\u001b[0m\u001b[1;33m\u001b[0m\u001b[1;33m\u001b[0m\u001b[0m\n\u001b[1;32m--> 882\u001b[1;33m                             check_tolerance, _force_outplace, _module_class)\n\u001b[0m\u001b[0;32m    883\u001b[0m \u001b[1;33m\u001b[0m\u001b[0m\n\u001b[0;32m    884\u001b[0m     if (hasattr(func, '__self__') and isinstance(func.__self__, torch.nn.Module) and\n",
      "\u001b[1;32mC:\\Anaconda3\\lib\\site-packages\\torch\\jit\\__init__.py\u001b[0m in \u001b[0;36mtrace_module\u001b[1;34m(mod, inputs, optimize, check_trace, check_inputs, check_tolerance, _force_outplace, _module_class, _compilation_unit)\u001b[0m\n\u001b[0;32m   1031\u001b[0m             \u001b[1;31m# this is needed since Module.__call__ sets up some extra tracing\u001b[0m\u001b[1;33m\u001b[0m\u001b[1;33m\u001b[0m\u001b[1;33m\u001b[0m\u001b[0m\n\u001b[0;32m   1032\u001b[0m             \u001b[0mfunc\u001b[0m \u001b[1;33m=\u001b[0m \u001b[0mmod\u001b[0m \u001b[1;32mif\u001b[0m \u001b[0mmethod_name\u001b[0m \u001b[1;33m==\u001b[0m \u001b[1;34m\"forward\"\u001b[0m \u001b[1;32melse\u001b[0m \u001b[0mgetattr\u001b[0m\u001b[1;33m(\u001b[0m\u001b[0mmod\u001b[0m\u001b[1;33m,\u001b[0m \u001b[0mmethod_name\u001b[0m\u001b[1;33m)\u001b[0m\u001b[1;33m\u001b[0m\u001b[1;33m\u001b[0m\u001b[0m\n\u001b[1;32m-> 1033\u001b[1;33m             \u001b[0mexample_inputs\u001b[0m \u001b[1;33m=\u001b[0m \u001b[0mmake_tuple\u001b[0m\u001b[1;33m(\u001b[0m\u001b[0mexample_inputs\u001b[0m\u001b[1;33m)\u001b[0m\u001b[1;33m\u001b[0m\u001b[1;33m\u001b[0m\u001b[0m\n\u001b[0m\u001b[0;32m   1034\u001b[0m             \u001b[0mmodule\u001b[0m\u001b[1;33m.\u001b[0m\u001b[0m_c\u001b[0m\u001b[1;33m.\u001b[0m\u001b[0m_create_method_from_trace\u001b[0m\u001b[1;33m(\u001b[0m\u001b[0mmethod_name\u001b[0m\u001b[1;33m,\u001b[0m \u001b[0mfunc\u001b[0m\u001b[1;33m,\u001b[0m \u001b[0mexample_inputs\u001b[0m\u001b[1;33m,\u001b[0m \u001b[0mvar_lookup_fn\u001b[0m\u001b[1;33m,\u001b[0m \u001b[0m_force_outplace\u001b[0m\u001b[1;33m)\u001b[0m\u001b[1;33m\u001b[0m\u001b[1;33m\u001b[0m\u001b[0m\n\u001b[0;32m   1035\u001b[0m             \u001b[0mcheck_trace_method\u001b[0m \u001b[1;33m=\u001b[0m \u001b[0mmodule\u001b[0m\u001b[1;33m.\u001b[0m\u001b[0m_c\u001b[0m\u001b[1;33m.\u001b[0m\u001b[0m_get_method\u001b[0m\u001b[1;33m(\u001b[0m\u001b[0mmethod_name\u001b[0m\u001b[1;33m)\u001b[0m\u001b[1;33m\u001b[0m\u001b[1;33m\u001b[0m\u001b[0m\n",
      "\u001b[1;32mC:\\Anaconda3\\lib\\site-packages\\torch\\jit\\__init__.py\u001b[0m in \u001b[0;36mmake_tuple\u001b[1;34m(example_inputs)\u001b[0m\n\u001b[0;32m    704\u001b[0m     \u001b[1;31m# done primarily so that weird iterables fail here and not pybind11 code\u001b[0m\u001b[1;33m\u001b[0m\u001b[1;33m\u001b[0m\u001b[1;33m\u001b[0m\u001b[0m\n\u001b[0;32m    705\u001b[0m     \u001b[1;32mif\u001b[0m \u001b[1;32mnot\u001b[0m \u001b[0misinstance\u001b[0m\u001b[1;33m(\u001b[0m\u001b[0mexample_inputs\u001b[0m\u001b[1;33m,\u001b[0m \u001b[0mtuple\u001b[0m\u001b[1;33m)\u001b[0m\u001b[1;33m:\u001b[0m\u001b[1;33m\u001b[0m\u001b[1;33m\u001b[0m\u001b[0m\n\u001b[1;32m--> 706\u001b[1;33m         \u001b[1;32mreturn\u001b[0m \u001b[0mtuple\u001b[0m\u001b[1;33m(\u001b[0m\u001b[0mexample_inputs\u001b[0m\u001b[1;33m)\u001b[0m\u001b[1;33m\u001b[0m\u001b[1;33m\u001b[0m\u001b[0m\n\u001b[0m\u001b[0;32m    707\u001b[0m     \u001b[1;32mreturn\u001b[0m \u001b[0mexample_inputs\u001b[0m\u001b[1;33m\u001b[0m\u001b[1;33m\u001b[0m\u001b[0m\n\u001b[0;32m    708\u001b[0m \u001b[1;33m\u001b[0m\u001b[0m\n",
      "\u001b[1;31mTypeError\u001b[0m: 'NoneType' object is not iterable"
     ]
    }
   ],
   "source": [
    "model = alexnet\n",
    "writer.add_graph(model, input_to_model=None, verbose=False,)\n"
   ]
  },
  {
   "cell_type": "code",
   "execution_count": null,
   "metadata": {},
   "outputs": [],
   "source": []
  },
  {
   "cell_type": "code",
   "execution_count": null,
   "metadata": {},
   "outputs": [],
   "source": []
  },
  {
   "cell_type": "code",
   "execution_count": null,
   "metadata": {},
   "outputs": [],
   "source": []
  },
  {
   "cell_type": "code",
   "execution_count": null,
   "metadata": {},
   "outputs": [],
   "source": []
  },
  {
   "cell_type": "code",
   "execution_count": null,
   "metadata": {},
   "outputs": [],
   "source": []
  },
  {
   "cell_type": "code",
   "execution_count": null,
   "metadata": {},
   "outputs": [],
   "source": []
  },
  {
   "cell_type": "code",
   "execution_count": null,
   "metadata": {},
   "outputs": [],
   "source": []
  },
  {
   "cell_type": "code",
   "execution_count": null,
   "metadata": {},
   "outputs": [],
   "source": []
  },
  {
   "cell_type": "code",
   "execution_count": null,
   "metadata": {},
   "outputs": [],
   "source": []
  },
  {
   "cell_type": "code",
   "execution_count": null,
   "metadata": {},
   "outputs": [],
   "source": []
  },
  {
   "cell_type": "raw",
   "metadata": {},
   "source": [
    "                  precision    recall  f1-score   support\n",
    "AlexNet\n",
    "   broad leaves       0.85      0.95      0.90        41\n",
    "coniferous tree       0.92      0.81      0.86        42\n",
    "     grass land       0.95      0.95      0.95        41\n",
    "    hard ground       1.00      0.88      0.94        41\n",
    "       leafless       0.84      0.81      0.83        47\n",
    "          stalk       0.89      0.89      0.89        47\n",
    "          stone       0.93      0.88      0.90        42\n",
    "          trunk       0.98      0.93      0.95        44\n",
    "          water       0.92      1.00      0.96        46\n",
    "           wire       0.84      0.98      0.91        44\n",
    "\n",
    "       accuracy                           0.91       435\n",
    "      macro avg       0.91      0.91      0.91       435\n",
    "   weighted avg       0.91      0.91      0.91       435\n",
    "\n",
    "VGG9   \n",
    "   broad leaves       0.95      0.93      0.94        41\n",
    "coniferous tree       0.97      0.90      0.94        42\n",
    "     grass land       0.95      1.00      0.98        41\n",
    "    hard ground       1.00      0.98      0.99        41\n",
    "       leafless       0.95      0.83      0.89        47\n",
    "          stalk       0.85      0.94      0.89        47\n",
    "          stone       0.93      0.93      0.93        42\n",
    "          trunk       0.98      0.95      0.97        44\n",
    "          water       0.98      1.00      0.99        46\n",
    "           wire       0.92      1.00      0.96        44\n",
    "\n",
    "       accuracy                           0.94       435\n",
    "      macro avg       0.95      0.95      0.95       435\n",
    "   weighted avg       0.95      0.94      0.94       435\n",
    "\n",
    "ResNet50\n",
    "   broad leaves       0.98      0.98      0.98        41\n",
    "coniferous tree       0.98      0.95      0.96        42\n",
    "     grass land       0.95      0.98      0.96        41\n",
    "    hard ground       1.00      0.95      0.97        41\n",
    "       leafless       0.89      0.87      0.88        47\n",
    "          stalk       0.86      0.91      0.89        47\n",
    "          stone       0.95      0.95      0.95        42\n",
    "          trunk       0.98      0.98      0.98        44\n",
    "          water       0.98      1.00      0.99        46\n",
    "           wire       0.98      0.95      0.97        44\n",
    "\n",
    "       accuracy                           0.95       435\n",
    "      macro avg       0.95      0.95      0.95       435\n",
    "   weighted avg       0.95      0.95      0.95       435\n",
    "\n",
    "ResNet152\n",
    "   broad leaves       0.95      0.98      0.96        41\n",
    "coniferous tree       1.00      0.95      0.98        42\n",
    "     grass land       0.95      0.98      0.96        41\n",
    "    hard ground       1.00      0.98      0.99        41\n",
    "       leafless       0.91      0.89      0.90        47\n",
    "          stalk       0.88      0.89      0.88        47\n",
    "          stone       0.95      0.93      0.94        42\n",
    "          trunk       0.96      0.98      0.97        44\n",
    "          water       0.98      1.00      0.99        46\n",
    "           wire       0.98      0.98      0.98        44\n",
    "\n",
    "       accuracy                           0.95       435\n",
    "      macro avg       0.96      0.95      0.96       435\n",
    "   weighted avg       0.95      0.95      0.95       435"
   ]
  },
  {
   "cell_type": "raw",
   "metadata": {},
   "source": [
    "   broad leaves       0.85      0.95      0.90        41\n",
    "coniferous tree       0.92      0.81      0.86        42\n",
    "     grass land       0.95      0.95      0.95        41\n",
    "    hard ground       1.00      0.88      0.94        41\n",
    "       leafless       0.84      0.81      0.83        47\n",
    "          stalk       0.89      0.89      0.89        47\n",
    "          stone       0.93      0.88      0.90        42\n",
    "          trunk       0.98      0.93      0.95        44\n",
    "          water       0.92      1.00      0.96        46\n",
    "           wire       0.84      0.98      0.91        44\n",
    "   broad leaves       0.95      0.93      0.94        41\n",
    "coniferous tree       0.97      0.90      0.94        42\n",
    "     grass land       0.95      1.00      0.98        41\n",
    "    hard ground       1.00      0.98      0.99        41\n",
    "       leafless       0.95      0.83      0.89        47\n",
    "          stalk       0.85      0.94      0.89        47\n",
    "          stone       0.93      0.93      0.93        42\n",
    "          trunk       0.98      0.95      0.97        44\n",
    "          water       0.98      1.00      0.99        46\n",
    "           wire       0.92      1.00      0.96        44\n",
    "   broad leaves       0.98      0.98      0.98        41\n",
    "coniferous tree       0.98      0.95      0.96        42\n",
    "     grass land       0.95      0.98      0.96        41\n",
    "    hard ground       1.00      0.95      0.97        41\n",
    "       leafless       0.89      0.87      0.88        47\n",
    "          stalk       0.86      0.91      0.89        47\n",
    "          stone       0.95      0.95      0.95        42\n",
    "          trunk       0.98      0.98      0.98        44\n",
    "          water       0.98      1.00      0.99        46\n",
    "           wire       0.98      0.95      0.97        44\n",
    "   broad leaves       0.95      0.98      0.96        41\n",
    "coniferous tree       1.00      0.95      0.98        42\n",
    "     grass land       0.95      0.98      0.96        41\n",
    "    hard ground       1.00      0.98      0.99        41\n",
    "       leafless       0.91      0.89      0.90        47\n",
    "          stalk       0.88      0.89      0.88        47\n",
    "          stone       0.95      0.93      0.94        42\n",
    "          trunk       0.96      0.98      0.97        44\n",
    "          water       0.98      1.00      0.99        46\n",
    "           wire       0.98      0.98      0.98        44"
   ]
  },
  {
   "cell_type": "code",
   "execution_count": null,
   "metadata": {},
   "outputs": [],
   "source": []
  }
 ],
 "metadata": {
  "kernelspec": {
   "display_name": "Python 3",
   "language": "python",
   "name": "python3"
  },
  "language_info": {
   "codemirror_mode": {
    "name": "ipython",
    "version": 3
   },
   "file_extension": ".py",
   "mimetype": "text/x-python",
   "name": "python",
   "nbconvert_exporter": "python",
   "pygments_lexer": "ipython3",
   "version": "3.7.4"
  }
 },
 "nbformat": 4,
 "nbformat_minor": 4
}
