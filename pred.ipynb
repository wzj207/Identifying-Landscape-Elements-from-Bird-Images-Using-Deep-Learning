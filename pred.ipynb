{
 "cells": [
  {
   "cell_type": "code",
   "execution_count": 18,
   "metadata": {},
   "outputs": [],
   "source": [
    "import torch\n",
    "import torch.nn as nn\n",
    "from torch import topk\n",
    "from torchvision import transforms\n",
    "from PIL import Image\n",
    "\n",
    "import os\n",
    "import matplotlib.pyplot as plt\n",
    "import numpy as np"
   ]
  },
  {
   "cell_type": "code",
   "execution_count": 17,
   "metadata": {},
   "outputs": [
    {
     "data": {
      "text/plain": [
       "Text(0, 0.5, 'y')"
      ]
     },
     "execution_count": 17,
     "metadata": {},
     "output_type": "execute_result"
    },
    {
     "data": {
      "image/png": "[encoded data removed]",
      "text/plain": [
       "<Figure size 432x288 with 1 Axes>"
      ]
     },
     "metadata": {
      "needs_background": "light"
     },
     "output_type": "display_data"
    }
   ],
   "source": [
    "x = [u'INFO', u'CUISINE', u'TYPE_OF_PLACE', u'DRINK', u'PLACE', u'MEAL_TIME', u'DISH', u'NEIGHBOURHOOD']\n",
    "y = [160, 167, 137, 18, 120, 36, 155, 130]\n",
    "\n",
    "fig, ax = plt.subplots()    \n",
    "width = 0.75 # the width of the bars \n",
    "ind = np.arange(len(y))  # the x locations for the groups\n",
    "ax.barh(ind, y, width, color=\"blue\")\n",
    "ax.set_yticks(ind+width/2)\n",
    "ax.set_yticklabels(x, minor=False)\n",
    "plt.title('title')\n",
    "plt.xlabel('x')\n",
    "plt.ylabel('y')      \n",
    "#plt.show()"
   ]
  },
  {
   "cell_type": "code",
   "execution_count": 16,
   "metadata": {},
   "outputs": [],
   "source": [
    "class2num = {'broad leaves': 0, 'coniferous tree': 1, 'grass land': 2, 'hard ground': 3, 'leafless': 4, 'stalk': 5, 'stone': 6, 'trunk': 7, 'water': 8, 'wire': 9}\n",
    "num2class = {0: 'broad leaves', 1: 'coniferous tree', 2: 'grass land', 3: 'hard ground', 4: 'leafless', 5: 'stalk', 6: 'stone', 7: 'trunk', 8: 'water', 9: 'wire'}\n",
    "\n",
    "resize = 224\n",
    "mean = [0.485, 0.456, 0.406]\n",
    "std = [0.229, 0.224, 0.225]\n",
    "device = torch.device('cpu')\n",
    "\n",
    "data_transforms = transforms.Compose([\n",
    "    transforms.Resize((resize, resize)),\n",
    "    transforms.ToTensor(),\n",
    "    transforms.Normalize(mean, std)\n",
    "    ])\n",
    "\n",
    "alexnet = torch.load('alexnet-111_10_5_5.pkl', map_location=torch.device('cpu'))\n",
    "vgg19 = torch.load('vgg19-111_8_5_5.pkl', map_location=torch.device('cpu'))\n",
    "res50 = torch.load('resnet50-111_3_5_5.pkl', map_location=torch.device('cpu'))\n",
    "res152 = torch.load('resnet152-111_5_5_5.pkl', map_location=torch.device('cpu'))\n",
    "\n",
    "models = {\n",
    "    'AlexNet'    :alexnet,\n",
    "    'VGG19'     :vgg19,\n",
    "    'ResNet50'  :res50,\n",
    "    'ResNet152' :res152\n",
    "}"
   ]
  },
  {
   "cell_type": "code",
   "execution_count": null,
   "metadata": {},
   "outputs": [],
   "source": []
  },
  {
   "cell_type": "code",
   "execution_count": 58,
   "metadata": {},
   "outputs": [],
   "source": [
    "def pred_single_image(modelname, data_transforms, img_path):\n",
    "    im = Image.open(img_path).convert(\"RGB\")\n",
    "    tsr = data_transforms(im).unsqueeze(0).to(device)\n",
    "    outputs = models[modelname](tsr)\n",
    "    probs = nn.functional.softmax(outputs, dim=1).squeeze()\n",
    "    probs = probs.detach().numpy()\n",
    "    pre_label_id = probs.argmax()\n",
    "    true_label_id = imgName2num(img_path)\n",
    "    print(pre_label_id, true_label_id)\n",
    "    is_correct = (pre_label_id==true_label_id)\n",
    "    print('Is correct? ', is_correct, 'True Label', num2class[true_label_id])\n",
    "    return is_correct, probs\n",
    "\n",
    "def plot_probs(image_path, modelname, probs, is_correct):\n",
    "    font1 = {\n",
    "#     'family':'Times New Roman',\n",
    "    'family':'Arial',\n",
    "    'weight':'bold',\n",
    "    'size'  : 12,\n",
    "    }\n",
    "    display_size = 400\n",
    "    f, (ax1, ax2) = plt.subplots(nrows=1, ncols=2, dpi=500)\n",
    "    f.set_size_inches(8, 4)\n",
    "\n",
    "    plt.tight_layout(pad=0)\n",
    "    if is_correct == True:\n",
    "        pred_color= 'tomato'\n",
    "        save_folder = 'corrects'\n",
    "    else:\n",
    "        pred_color = 'cyan'\n",
    "        save_folder = 'wrongs'\n",
    "    x = list(num2class.keys())\n",
    "    y = probs\n",
    "    width = 1.0\n",
    "    ind = np.arange(len(num2class.keys()))  # the x locations for the groups\n",
    "    ax2.barh(ind, y, width, color=pred_color)\n",
    "    \n",
    "    im = Image.open(image_path)\n",
    "    im = im.resize((display_size,display_size),Image.ANTIALIAS)\n",
    "    ax1.imshow(im, aspect='auto')\n",
    "    ax1.set_xticks([])\n",
    "    ax1.set_yticks([])\n",
    "    \n",
    "    for i in range(10):\n",
    "        ax2.text(.005, i-0.08, num2class[i], color='k', fontdict=font1)\n",
    "        ax2.text(0.6, i-0.08, '{:<5.2f}%'.format(100*probs[i]), color='blue', fontdict=font1)\n",
    "    \n",
    "    ax2.spines['bottom'].set_linewidth(2);###设置底部坐标轴的粗细\n",
    "    ax2.spines['left'].set_linewidth(2);####设置左边坐标轴的粗细\n",
    "    ax2.spines['right'].set_linewidth(2);###设置右边坐标轴的粗细\n",
    "    ax2.spines['top'].set_linewidth(2);####设置上部坐标轴的粗细\n",
    "\n",
    "    ax2.set_xticks([])\n",
    "    ax2.set_yticks([])\n",
    "    \n",
    "    for p in ax1.spines.keys():\n",
    "        ax1.spines[p].set_visible(False);###设置底部坐标轴是否可见\n",
    "    \n",
    "    \n",
    "    savename = os.path.join('./pred_show_imags',model_name,save_folder,os.path.basename(image_path).split('.')[0]+'_{}.png'.format(modelname))\n",
    "    print('Result saves as {}...'.format(savename))\n",
    "    plt.savefig(savename, dpi=300)\n",
    "    plt.clf()\n",
    "\n",
    "    \n",
    "def imgName2num(image_path):\n",
    "    baseName = os.path.basename(image_path)\n",
    "    folder_id = baseName[1]\n",
    "    id2num = {\n",
    "        '0' : class2num['broad leaves'],\n",
    "        '1' : class2num['coniferous tree'],\n",
    "        '2' : class2num['hard ground'],\n",
    "        '3' : class2num['leafless'],\n",
    "        '4' : class2num['stalk'],\n",
    "        '5' : class2num['stone'],\n",
    "        '6' : class2num['trunk'],\n",
    "        '7' : class2num['grass land'],\n",
    "        '8' : class2num['water'],\n",
    "        '9' : class2num['wire'],\n",
    "    }\n",
    "#     print(baseName, folder_id)\n",
    "    return id2num[str(folder_id)]\n",
    "    "
   ]
  },
  {
   "cell_type": "code",
   "execution_count": 59,
   "metadata": {},
   "outputs": [
    {
     "name": "stdout",
     "output_type": "stream",
     "text": [
      "4 0\n",
      "Is correct?  False True Label broad leaves\n",
      "Result saves as ./pred_show_imags\\ResNet152\\wrongs\\000019_ResNet152.png...\n"
     ]
    },
    {
     "data": {
      "text/plain": [
       "<Figure size 4000x2000 with 0 Axes>"
      ]
     },
     "metadata": {},
     "output_type": "display_data"
    }
   ],
   "source": [
    "model_name = 'ResNet152'\n",
    "\n",
    "image_path = './samples/000019.jpg'\n",
    "is_correct, probs = pred_single_image(model_name, data_transforms, image_path)\n",
    "plot_probs(image_path=image_path, modelname=model_name, probs=probs, is_correct=is_correct)"
   ]
  },
  {
   "cell_type": "code",
   "execution_count": 34,
   "metadata": {},
   "outputs": [],
   "source": [
    "# model_name = 'ResNet50'\n",
    "\n",
    "# is_correct, probs = pred_single_image(model_name, data_transforms, image_path)\n",
    "# plot_probs(image_path=image_path, modelname=model_name, probs=probs, is_correct=is_correct)"
   ]
  },
  {
   "cell_type": "code",
   "execution_count": 35,
   "metadata": {},
   "outputs": [],
   "source": [
    "# model_name = 'ResNet50'\n",
    "# image_path = './samples/000003.jpg'\n",
    "# is_correct, probs = pred_single_image(model_name, data_transforms, image_path)\n",
    "# plot_probs(image_path=image_path, modelname=model_name, probs=probs, is_correct=is_correct)"
   ]
  },
  {
   "cell_type": "code",
   "execution_count": 40,
   "metadata": {},
   "outputs": [],
   "source": [
    "import matplotlib as mpl\n",
    "mpl.use('Agg')\n",
    "imgs = os.listdir('./samples/')\n",
    "imgs = [os.path.join('./samples', img) for img in imgs]"
   ]
  },
  {
   "cell_type": "code",
   "execution_count": 41,
   "metadata": {},
   "outputs": [],
   "source": [
    "# model_name = 'ResNet50'\n",
    "\n",
    "# len(imgs)\n",
    "# # for i, fn in enumerate(imgs[:100]):\n",
    "# # for i, fn in enumerate(imgs[100:200]):\n",
    "# # for i, fn in enumerate(imgs[200:300]):\n",
    "# for i, fn in enumerate(imgs[300:]):\n",
    "#     print(i, fn)\n",
    "#     is_correct, probs = pred_single_image(model_name, data_transforms, fn)\n",
    "#     plot_probs(image_path=fn, modelname=model_name, probs=probs, is_correct=is_correct)"
   ]
  },
  {
   "cell_type": "code",
   "execution_count": 54,
   "metadata": {},
   "outputs": [],
   "source": [
    "model_name = 'VGG19'\n",
    "\n",
    "# len(imgs)\n",
    "# for i, fn in enumerate(imgs[:100]):\n",
    "# for i, fn in enumerate(imgs[100:200]):\n",
    "# for i, fn in enumerate(imgs[200:300]):\n",
    "# for i, fn in enumerate(imgs[300:]):\n",
    "#     print(i, fn)\n",
    "#     is_correct, probs = pred_single_image(model_name, data_transforms, fn)\n",
    "#     plot_probs(image_path=fn, modelname=model_name, probs=probs, is_correct=is_correct)"
   ]
  },
  {
   "cell_type": "code",
   "execution_count": 57,
   "metadata": {},
   "outputs": [
    {
     "name": "stdout",
     "output_type": "stream",
     "text": [
      "0 ./samples\\060202.jpg\n",
      "7 7\n",
      "Is correct?  True\n",
      "Result saves as ./pred_show_imags\\AlexNet\\corrects\\060202_AlexNet.png...\n",
      "1 ./samples\\060203.jpg\n",
      "7 7\n",
      "Is correct?  True\n",
      "Result saves as ./pred_show_imags\\AlexNet\\corrects\\060203_AlexNet.png...\n",
      "2 ./samples\\060209.jpg\n",
      "7 7\n",
      "Is correct?  True\n",
      "Result saves as ./pred_show_imags\\AlexNet\\corrects\\060209_AlexNet.png...\n",
      "3 ./samples\\060211.jpg\n",
      "7 7\n",
      "Is correct?  True\n",
      "Result saves as ./pred_show_imags\\AlexNet\\corrects\\060211_AlexNet.png...\n",
      "4 ./samples\\070003.jpg\n",
      "2 2\n",
      "Is correct?  True\n",
      "Result saves as ./pred_show_imags\\AlexNet\\corrects\\070003_AlexNet.png...\n",
      "5 ./samples\\070005.jpg\n",
      "2 2\n",
      "Is correct?  True\n",
      "Result saves as ./pred_show_imags\\AlexNet\\corrects\\070005_AlexNet.png...\n",
      "6 ./samples\\070012.jpg\n",
      "2 2\n",
      "Is correct?  True\n",
      "Result saves as ./pred_show_imags\\AlexNet\\corrects\\070012_AlexNet.png...\n",
      "7 ./samples\\070023.jpg\n",
      "2 2\n",
      "Is correct?  True\n",
      "Result saves as ./pred_show_imags\\AlexNet\\corrects\\070023_AlexNet.png...\n",
      "8 ./samples\\070024.jpg\n",
      "2 2\n",
      "Is correct?  True\n",
      "Result saves as ./pred_show_imags\\AlexNet\\corrects\\070024_AlexNet.png...\n",
      "9 ./samples\\070025.jpg\n",
      "2 2\n",
      "Is correct?  True\n",
      "Result saves as ./pred_show_imags\\AlexNet\\corrects\\070025_AlexNet.png...\n",
      "10 ./samples\\070026.jpg\n",
      "2 2\n",
      "Is correct?  True\n",
      "Result saves as ./pred_show_imags\\AlexNet\\corrects\\070026_AlexNet.png...\n",
      "11 ./samples\\070029.jpg\n",
      "2 2\n",
      "Is correct?  True\n",
      "Result saves as ./pred_show_imags\\AlexNet\\corrects\\070029_AlexNet.png...\n",
      "12 ./samples\\070036.jpg\n",
      "2 2\n",
      "Is correct?  True\n",
      "Result saves as ./pred_show_imags\\AlexNet\\corrects\\070036_AlexNet.png...\n",
      "13 ./samples\\070037.jpg\n",
      "2 2\n",
      "Is correct?  True\n",
      "Result saves as ./pred_show_imags\\AlexNet\\corrects\\070037_AlexNet.png...\n",
      "14 ./samples\\070038.jpg\n",
      "2 2\n",
      "Is correct?  True\n",
      "Result saves as ./pred_show_imags\\AlexNet\\corrects\\070038_AlexNet.png...\n",
      "15 ./samples\\070039.jpg\n",
      "2 2\n",
      "Is correct?  True\n",
      "Result saves as ./pred_show_imags\\AlexNet\\corrects\\070039_AlexNet.png...\n",
      "16 ./samples\\070051.jpg\n",
      "1 2\n",
      "Is correct?  False\n",
      "Result saves as ./pred_show_imags\\AlexNet\\wrongs\\070051_AlexNet.png...\n",
      "17 ./samples\\070062.jpg\n",
      "2 2\n",
      "Is correct?  True\n",
      "Result saves as ./pred_show_imags\\AlexNet\\corrects\\070062_AlexNet.png...\n",
      "18 ./samples\\070078.jpg\n",
      "2 2\n",
      "Is correct?  True\n",
      "Result saves as ./pred_show_imags\\AlexNet\\corrects\\070078_AlexNet.png...\n",
      "19 ./samples\\070079.jpg\n",
      "2 2\n",
      "Is correct?  True\n",
      "Result saves as ./pred_show_imags\\AlexNet\\corrects\\070079_AlexNet.png...\n",
      "20 ./samples\\070081.jpg\n",
      "2 2\n",
      "Is correct?  True\n"
     ]
    },
    {
     "name": "stderr",
     "output_type": "stream",
     "text": [
      "C:\\Anaconda3\\lib\\site-packages\\ipykernel_launcher.py:22: RuntimeWarning: More than 20 figures have been opened. Figures created through the pyplot interface (`matplotlib.pyplot.figure`) are retained until explicitly closed and may consume too much memory. (To control this warning, see the rcParam `figure.max_open_warning`).\n"
     ]
    },
    {
     "name": "stdout",
     "output_type": "stream",
     "text": [
      "Result saves as ./pred_show_imags\\AlexNet\\corrects\\070081_AlexNet.png...\n",
      "21 ./samples\\070092.jpg\n",
      "2 2\n",
      "Is correct?  True\n",
      "Result saves as ./pred_show_imags\\AlexNet\\corrects\\070092_AlexNet.png...\n",
      "22 ./samples\\070094.jpg\n",
      "2 2\n",
      "Is correct?  True\n",
      "Result saves as ./pred_show_imags\\AlexNet\\corrects\\070094_AlexNet.png...\n",
      "23 ./samples\\070096.jpg\n",
      "2 2\n",
      "Is correct?  True\n",
      "Result saves as ./pred_show_imags\\AlexNet\\corrects\\070096_AlexNet.png...\n",
      "24 ./samples\\070110.jpg\n",
      "2 2\n",
      "Is correct?  True\n",
      "Result saves as ./pred_show_imags\\AlexNet\\corrects\\070110_AlexNet.png...\n",
      "25 ./samples\\070111.jpg\n",
      "2 2\n",
      "Is correct?  True\n",
      "Result saves as ./pred_show_imags\\AlexNet\\corrects\\070111_AlexNet.png...\n",
      "26 ./samples\\070117.jpg\n",
      "2 2\n",
      "Is correct?  True\n",
      "Result saves as ./pred_show_imags\\AlexNet\\corrects\\070117_AlexNet.png...\n",
      "27 ./samples\\070120.jpg\n",
      "2 2\n",
      "Is correct?  True\n",
      "Result saves as ./pred_show_imags\\AlexNet\\corrects\\070120_AlexNet.png...\n",
      "28 ./samples\\070128.jpg\n",
      "2 2\n",
      "Is correct?  True\n",
      "Result saves as ./pred_show_imags\\AlexNet\\corrects\\070128_AlexNet.png...\n",
      "29 ./samples\\070129.jpg\n",
      "2 2\n",
      "Is correct?  True\n",
      "Result saves as ./pred_show_imags\\AlexNet\\corrects\\070129_AlexNet.png...\n",
      "30 ./samples\\070137.jpg\n",
      "2 2\n",
      "Is correct?  True\n",
      "Result saves as ./pred_show_imags\\AlexNet\\corrects\\070137_AlexNet.png...\n",
      "31 ./samples\\070145.jpg\n",
      "2 2\n",
      "Is correct?  True\n",
      "Result saves as ./pred_show_imags\\AlexNet\\corrects\\070145_AlexNet.png...\n",
      "32 ./samples\\070146.jpg\n",
      "2 2\n",
      "Is correct?  True\n",
      "Result saves as ./pred_show_imags\\AlexNet\\corrects\\070146_AlexNet.png...\n",
      "33 ./samples\\070152.jpg\n",
      "0 2\n",
      "Is correct?  False\n",
      "Result saves as ./pred_show_imags\\AlexNet\\wrongs\\070152_AlexNet.png...\n",
      "34 ./samples\\070154.jpg\n",
      "2 2\n",
      "Is correct?  True\n",
      "Result saves as ./pred_show_imags\\AlexNet\\corrects\\070154_AlexNet.png...\n",
      "35 ./samples\\070157.jpg\n",
      "2 2\n",
      "Is correct?  True\n",
      "Result saves as ./pred_show_imags\\AlexNet\\corrects\\070157_AlexNet.png...\n",
      "36 ./samples\\070163.jpg\n",
      "2 2\n",
      "Is correct?  True\n",
      "Result saves as ./pred_show_imags\\AlexNet\\corrects\\070163_AlexNet.png...\n",
      "37 ./samples\\070164.jpg\n",
      "2 2\n",
      "Is correct?  True\n",
      "Result saves as ./pred_show_imags\\AlexNet\\corrects\\070164_AlexNet.png...\n",
      "38 ./samples\\070166.jpg\n",
      "2 2\n",
      "Is correct?  True\n",
      "Result saves as ./pred_show_imags\\AlexNet\\corrects\\070166_AlexNet.png...\n",
      "39 ./samples\\070169.jpg\n",
      "2 2\n",
      "Is correct?  True\n",
      "Result saves as ./pred_show_imags\\AlexNet\\corrects\\070169_AlexNet.png...\n",
      "40 ./samples\\070170.jpg\n",
      "2 2\n",
      "Is correct?  True\n",
      "Result saves as ./pred_show_imags\\AlexNet\\corrects\\070170_AlexNet.png...\n",
      "41 ./samples\\070172.jpg\n",
      "2 2\n",
      "Is correct?  True\n",
      "Result saves as ./pred_show_imags\\AlexNet\\corrects\\070172_AlexNet.png...\n",
      "42 ./samples\\070175.jpg\n",
      "2 2\n",
      "Is correct?  True\n",
      "Result saves as ./pred_show_imags\\AlexNet\\corrects\\070175_AlexNet.png...\n",
      "43 ./samples\\070180.jpg\n",
      "2 2\n",
      "Is correct?  True\n",
      "Result saves as ./pred_show_imags\\AlexNet\\corrects\\070180_AlexNet.png...\n",
      "44 ./samples\\070199.jpg\n",
      "2 2\n",
      "Is correct?  True\n",
      "Result saves as ./pred_show_imags\\AlexNet\\corrects\\070199_AlexNet.png...\n",
      "45 ./samples\\080002.jpg\n",
      "8 8\n",
      "Is correct?  True\n",
      "Result saves as ./pred_show_imags\\AlexNet\\corrects\\080002_AlexNet.png...\n",
      "46 ./samples\\080004.jpg\n",
      "8 8\n",
      "Is correct?  True\n",
      "Result saves as ./pred_show_imags\\AlexNet\\corrects\\080004_AlexNet.png...\n",
      "47 ./samples\\080005.jpg\n",
      "8 8\n",
      "Is correct?  True\n",
      "Result saves as ./pred_show_imags\\AlexNet\\corrects\\080005_AlexNet.png...\n",
      "48 ./samples\\080006.jpg\n",
      "8 8\n",
      "Is correct?  True\n",
      "Result saves as ./pred_show_imags\\AlexNet\\corrects\\080006_AlexNet.png...\n",
      "49 ./samples\\080007.jpg\n",
      "8 8\n",
      "Is correct?  True\n",
      "Result saves as ./pred_show_imags\\AlexNet\\corrects\\080007_AlexNet.png...\n",
      "50 ./samples\\080016.jpg\n",
      "8 8\n",
      "Is correct?  True\n",
      "Result saves as ./pred_show_imags\\AlexNet\\corrects\\080016_AlexNet.png...\n",
      "51 ./samples\\080017.jpg\n",
      "8 8\n",
      "Is correct?  True\n",
      "Result saves as ./pred_show_imags\\AlexNet\\corrects\\080017_AlexNet.png...\n",
      "52 ./samples\\080022.jpg\n",
      "8 8\n",
      "Is correct?  True\n",
      "Result saves as ./pred_show_imags\\AlexNet\\corrects\\080022_AlexNet.png...\n",
      "53 ./samples\\080030.jpg\n",
      "8 8\n",
      "Is correct?  True\n",
      "Result saves as ./pred_show_imags\\AlexNet\\corrects\\080030_AlexNet.png...\n",
      "54 ./samples\\080036.jpg\n",
      "8 8\n",
      "Is correct?  True\n",
      "Result saves as ./pred_show_imags\\AlexNet\\corrects\\080036_AlexNet.png...\n",
      "55 ./samples\\080040.jpg\n",
      "8 8\n",
      "Is correct?  True\n",
      "Result saves as ./pred_show_imags\\AlexNet\\corrects\\080040_AlexNet.png...\n",
      "56 ./samples\\080041.jpg\n",
      "8 8\n",
      "Is correct?  True\n",
      "Result saves as ./pred_show_imags\\AlexNet\\corrects\\080041_AlexNet.png...\n",
      "57 ./samples\\080047.jpg\n",
      "8 8\n",
      "Is correct?  True\n",
      "Result saves as ./pred_show_imags\\AlexNet\\corrects\\080047_AlexNet.png...\n",
      "58 ./samples\\080054.jpg\n",
      "8 8\n",
      "Is correct?  True\n",
      "Result saves as ./pred_show_imags\\AlexNet\\corrects\\080054_AlexNet.png...\n",
      "59 ./samples\\080065.jpg\n",
      "8 8\n",
      "Is correct?  True\n",
      "Result saves as ./pred_show_imags\\AlexNet\\corrects\\080065_AlexNet.png...\n",
      "60 ./samples\\080069.jpg\n",
      "8 8\n",
      "Is correct?  True\n",
      "Result saves as ./pred_show_imags\\AlexNet\\corrects\\080069_AlexNet.png...\n",
      "61 ./samples\\080084.jpg\n",
      "8 8\n",
      "Is correct?  True\n",
      "Result saves as ./pred_show_imags\\AlexNet\\corrects\\080084_AlexNet.png...\n",
      "62 ./samples\\080091.jpg\n",
      "8 8\n",
      "Is correct?  True\n",
      "Result saves as ./pred_show_imags\\AlexNet\\corrects\\080091_AlexNet.png...\n",
      "63 ./samples\\080093.jpg\n",
      "8 8\n",
      "Is correct?  True\n",
      "Result saves as ./pred_show_imags\\AlexNet\\corrects\\080093_AlexNet.png...\n",
      "64 ./samples\\080094.jpg\n",
      "8 8\n",
      "Is correct?  True\n",
      "Result saves as ./pred_show_imags\\AlexNet\\corrects\\080094_AlexNet.png...\n",
      "65 ./samples\\080097.jpg\n",
      "8 8\n",
      "Is correct?  True\n",
      "Result saves as ./pred_show_imags\\AlexNet\\corrects\\080097_AlexNet.png...\n",
      "66 ./samples\\080103.jpg\n",
      "8 8\n",
      "Is correct?  True\n",
      "Result saves as ./pred_show_imags\\AlexNet\\corrects\\080103_AlexNet.png...\n",
      "67 ./samples\\080108.jpg\n",
      "8 8\n",
      "Is correct?  True\n",
      "Result saves as ./pred_show_imags\\AlexNet\\corrects\\080108_AlexNet.png...\n",
      "68 ./samples\\080110.jpg\n",
      "8 8\n",
      "Is correct?  True\n",
      "Result saves as ./pred_show_imags\\AlexNet\\corrects\\080110_AlexNet.png...\n",
      "69 ./samples\\080118.jpg\n",
      "8 8\n",
      "Is correct?  True\n",
      "Result saves as ./pred_show_imags\\AlexNet\\corrects\\080118_AlexNet.png...\n",
      "70 ./samples\\080122.jpg\n",
      "8 8\n",
      "Is correct?  True\n",
      "Result saves as ./pred_show_imags\\AlexNet\\corrects\\080122_AlexNet.png...\n",
      "71 ./samples\\080138.jpg\n",
      "8 8\n",
      "Is correct?  True\n",
      "Result saves as ./pred_show_imags\\AlexNet\\corrects\\080138_AlexNet.png...\n",
      "72 ./samples\\080144.jpg\n",
      "8 8\n",
      "Is correct?  True\n",
      "Result saves as ./pred_show_imags\\AlexNet\\corrects\\080144_AlexNet.png...\n",
      "73 ./samples\\080158.jpg\n",
      "8 8\n",
      "Is correct?  True\n",
      "Result saves as ./pred_show_imags\\AlexNet\\corrects\\080158_AlexNet.png...\n",
      "74 ./samples\\080161.jpg\n",
      "8 8\n",
      "Is correct?  True\n",
      "Result saves as ./pred_show_imags\\AlexNet\\corrects\\080161_AlexNet.png...\n",
      "75 ./samples\\080163.jpg\n",
      "8 8\n",
      "Is correct?  True\n",
      "Result saves as ./pred_show_imags\\AlexNet\\corrects\\080163_AlexNet.png...\n",
      "76 ./samples\\080167.jpg\n",
      "8 8\n",
      "Is correct?  True\n",
      "Result saves as ./pred_show_imags\\AlexNet\\corrects\\080167_AlexNet.png...\n",
      "77 ./samples\\080169.jpg\n",
      "8 8\n",
      "Is correct?  True\n",
      "Result saves as ./pred_show_imags\\AlexNet\\corrects\\080169_AlexNet.png...\n",
      "78 ./samples\\080173.jpg\n",
      "8 8\n",
      "Is correct?  True\n",
      "Result saves as ./pred_show_imags\\AlexNet\\corrects\\080173_AlexNet.png...\n",
      "79 ./samples\\080174.jpg\n",
      "8 8\n",
      "Is correct?  True\n",
      "Result saves as ./pred_show_imags\\AlexNet\\corrects\\080174_AlexNet.png...\n",
      "80 ./samples\\080175.jpg\n",
      "8 8\n",
      "Is correct?  True\n",
      "Result saves as ./pred_show_imags\\AlexNet\\corrects\\080175_AlexNet.png...\n",
      "81 ./samples\\080185.jpg\n",
      "8 8\n",
      "Is correct?  True\n",
      "Result saves as ./pred_show_imags\\AlexNet\\corrects\\080185_AlexNet.png...\n",
      "82 ./samples\\080188.jpg\n",
      "8 8\n",
      "Is correct?  True\n",
      "Result saves as ./pred_show_imags\\AlexNet\\corrects\\080188_AlexNet.png...\n",
      "83 ./samples\\080189.jpg\n",
      "8 8\n",
      "Is correct?  True\n",
      "Result saves as ./pred_show_imags\\AlexNet\\corrects\\080189_AlexNet.png...\n",
      "84 ./samples\\080190.jpg\n",
      "8 8\n",
      "Is correct?  True\n",
      "Result saves as ./pred_show_imags\\AlexNet\\corrects\\080190_AlexNet.png...\n",
      "85 ./samples\\080197.jpg\n",
      "8 8\n",
      "Is correct?  True\n",
      "Result saves as ./pred_show_imags\\AlexNet\\corrects\\080197_AlexNet.png...\n",
      "86 ./samples\\080202.jpg\n",
      "8 8\n",
      "Is correct?  True\n",
      "Result saves as ./pred_show_imags\\AlexNet\\corrects\\080202_AlexNet.png...\n",
      "87 ./samples\\080205.jpg\n",
      "8 8\n",
      "Is correct?  True\n",
      "Result saves as ./pred_show_imags\\AlexNet\\corrects\\080205_AlexNet.png...\n",
      "88 ./samples\\080210.jpg\n",
      "8 8\n",
      "Is correct?  True\n",
      "Result saves as ./pred_show_imags\\AlexNet\\corrects\\080210_AlexNet.png...\n",
      "89 ./samples\\080220.jpg\n",
      "8 8\n",
      "Is correct?  True\n",
      "Result saves as ./pred_show_imags\\AlexNet\\corrects\\080220_AlexNet.png...\n",
      "90 ./samples\\080224.jpg\n",
      "8 8\n",
      "Is correct?  True\n",
      "Result saves as ./pred_show_imags\\AlexNet\\corrects\\080224_AlexNet.png...\n",
      "91 ./samples\\090001.jpg\n",
      "9 9\n",
      "Is correct?  True\n",
      "Result saves as ./pred_show_imags\\AlexNet\\corrects\\090001_AlexNet.png...\n",
      "92 ./samples\\090002.jpg\n",
      "9 9\n",
      "Is correct?  True\n",
      "Result saves as ./pred_show_imags\\AlexNet\\corrects\\090002_AlexNet.png...\n",
      "93 ./samples\\090009.jpg\n",
      "9 9\n",
      "Is correct?  True\n",
      "Result saves as ./pred_show_imags\\AlexNet\\corrects\\090009_AlexNet.png...\n",
      "94 ./samples\\090012.jpg\n",
      "9 9\n",
      "Is correct?  True\n",
      "Result saves as ./pred_show_imags\\AlexNet\\corrects\\090012_AlexNet.png...\n",
      "95 ./samples\\090022.jpg\n",
      "5 9\n",
      "Is correct?  False\n",
      "Result saves as ./pred_show_imags\\AlexNet\\wrongs\\090022_AlexNet.png...\n",
      "96 ./samples\\090029.jpg\n",
      "9 9\n",
      "Is correct?  True\n",
      "Result saves as ./pred_show_imags\\AlexNet\\corrects\\090029_AlexNet.png...\n",
      "97 ./samples\\090048.jpg\n",
      "9 9\n",
      "Is correct?  True\n",
      "Result saves as ./pred_show_imags\\AlexNet\\corrects\\090048_AlexNet.png...\n",
      "98 ./samples\\090050.jpg\n",
      "9 9\n",
      "Is correct?  True\n",
      "Result saves as ./pred_show_imags\\AlexNet\\corrects\\090050_AlexNet.png...\n",
      "99 ./samples\\090056.jpg\n",
      "9 9\n",
      "Is correct?  True\n",
      "Result saves as ./pred_show_imags\\AlexNet\\corrects\\090056_AlexNet.png...\n",
      "100 ./samples\\090058.jpg\n",
      "9 9\n",
      "Is correct?  True\n",
      "Result saves as ./pred_show_imags\\AlexNet\\corrects\\090058_AlexNet.png...\n",
      "101 ./samples\\090061.jpg\n",
      "9 9\n",
      "Is correct?  True\n",
      "Result saves as ./pred_show_imags\\AlexNet\\corrects\\090061_AlexNet.png...\n",
      "102 ./samples\\090062.jpg\n",
      "9 9\n",
      "Is correct?  True\n",
      "Result saves as ./pred_show_imags\\AlexNet\\corrects\\090062_AlexNet.png...\n",
      "103 ./samples\\090063.jpg\n",
      "9 9\n",
      "Is correct?  True\n",
      "Result saves as ./pred_show_imags\\AlexNet\\corrects\\090063_AlexNet.png...\n",
      "104 ./samples\\090064.jpg\n",
      "9 9\n",
      "Is correct?  True\n",
      "Result saves as ./pred_show_imags\\AlexNet\\corrects\\090064_AlexNet.png...\n",
      "105 ./samples\\090070.jpg\n",
      "9 9\n",
      "Is correct?  True\n",
      "Result saves as ./pred_show_imags\\AlexNet\\corrects\\090070_AlexNet.png...\n",
      "106 ./samples\\090072.jpg\n",
      "9 9\n",
      "Is correct?  True\n",
      "Result saves as ./pred_show_imags\\AlexNet\\corrects\\090072_AlexNet.png...\n",
      "107 ./samples\\090076.jpg\n",
      "9 9\n",
      "Is correct?  True\n",
      "Result saves as ./pred_show_imags\\AlexNet\\corrects\\090076_AlexNet.png...\n",
      "108 ./samples\\090079.jpg\n",
      "9 9\n",
      "Is correct?  True\n",
      "Result saves as ./pred_show_imags\\AlexNet\\corrects\\090079_AlexNet.png...\n",
      "109 ./samples\\090081.jpg\n",
      "9 9\n",
      "Is correct?  True\n",
      "Result saves as ./pred_show_imags\\AlexNet\\corrects\\090081_AlexNet.png...\n",
      "110 ./samples\\090087.jpg\n",
      "9 9\n",
      "Is correct?  True\n",
      "Result saves as ./pred_show_imags\\AlexNet\\corrects\\090087_AlexNet.png...\n",
      "111 ./samples\\090088.jpg\n",
      "9 9\n",
      "Is correct?  True\n",
      "Result saves as ./pred_show_imags\\AlexNet\\corrects\\090088_AlexNet.png...\n",
      "112 ./samples\\090092.jpg\n",
      "9 9\n",
      "Is correct?  True\n",
      "Result saves as ./pred_show_imags\\AlexNet\\corrects\\090092_AlexNet.png...\n",
      "113 ./samples\\090102.jpg\n",
      "9 9\n",
      "Is correct?  True\n",
      "Result saves as ./pred_show_imags\\AlexNet\\corrects\\090102_AlexNet.png...\n",
      "114 ./samples\\090105.png\n",
      "9 9\n",
      "Is correct?  True\n",
      "Result saves as ./pred_show_imags\\AlexNet\\corrects\\090105_AlexNet.png...\n",
      "115 ./samples\\090108.jpg\n",
      "9 9\n",
      "Is correct?  True\n",
      "Result saves as ./pred_show_imags\\AlexNet\\corrects\\090108_AlexNet.png...\n",
      "116 ./samples\\090110.jpg\n",
      "9 9\n",
      "Is correct?  True\n",
      "Result saves as ./pred_show_imags\\AlexNet\\corrects\\090110_AlexNet.png...\n",
      "117 ./samples\\090117.jpg\n",
      "9 9\n",
      "Is correct?  True\n",
      "Result saves as ./pred_show_imags\\AlexNet\\corrects\\090117_AlexNet.png...\n",
      "118 ./samples\\090127.jpg\n",
      "9 9\n",
      "Is correct?  True\n",
      "Result saves as ./pred_show_imags\\AlexNet\\corrects\\090127_AlexNet.png...\n",
      "119 ./samples\\090139.jpg\n",
      "9 9\n",
      "Is correct?  True\n",
      "Result saves as ./pred_show_imags\\AlexNet\\corrects\\090139_AlexNet.png...\n",
      "120 ./samples\\090144.jpg\n",
      "9 9\n",
      "Is correct?  True\n",
      "Result saves as ./pred_show_imags\\AlexNet\\corrects\\090144_AlexNet.png...\n",
      "121 ./samples\\090145.jpg\n",
      "9 9\n",
      "Is correct?  True\n",
      "Result saves as ./pred_show_imags\\AlexNet\\corrects\\090145_AlexNet.png...\n",
      "122 ./samples\\090146.jpg\n",
      "9 9\n",
      "Is correct?  True\n",
      "Result saves as ./pred_show_imags\\AlexNet\\corrects\\090146_AlexNet.png...\n",
      "123 ./samples\\090147.jpg\n",
      "9 9\n",
      "Is correct?  True\n",
      "Result saves as ./pred_show_imags\\AlexNet\\corrects\\090147_AlexNet.png...\n",
      "124 ./samples\\090160.jpg\n",
      "9 9\n",
      "Is correct?  True\n",
      "Result saves as ./pred_show_imags\\AlexNet\\corrects\\090160_AlexNet.png...\n",
      "125 ./samples\\090170.jpg\n",
      "9 9\n",
      "Is correct?  True\n",
      "Result saves as ./pred_show_imags\\AlexNet\\corrects\\090170_AlexNet.png...\n",
      "126 ./samples\\090171.jpg\n",
      "9 9\n",
      "Is correct?  True\n",
      "Result saves as ./pred_show_imags\\AlexNet\\corrects\\090171_AlexNet.png...\n",
      "127 ./samples\\090178.jpg\n",
      "9 9\n",
      "Is correct?  True\n",
      "Result saves as ./pred_show_imags\\AlexNet\\corrects\\090178_AlexNet.png...\n",
      "128 ./samples\\090180.jpg\n",
      "9 9\n",
      "Is correct?  True\n",
      "Result saves as ./pred_show_imags\\AlexNet\\corrects\\090180_AlexNet.png...\n",
      "129 ./samples\\090187.jpg\n",
      "9 9\n",
      "Is correct?  True\n",
      "Result saves as ./pred_show_imags\\AlexNet\\corrects\\090187_AlexNet.png...\n",
      "130 ./samples\\090190.jpg\n",
      "9 9\n",
      "Is correct?  True\n",
      "Result saves as ./pred_show_imags\\AlexNet\\corrects\\090190_AlexNet.png...\n",
      "131 ./samples\\090201.jpg\n",
      "9 9\n",
      "Is correct?  True\n",
      "Result saves as ./pred_show_imags\\AlexNet\\corrects\\090201_AlexNet.png...\n",
      "132 ./samples\\090205.jpg\n",
      "9 9\n",
      "Is correct?  True\n",
      "Result saves as ./pred_show_imags\\AlexNet\\corrects\\090205_AlexNet.png...\n",
      "133 ./samples\\090206.jpg\n",
      "9 9\n",
      "Is correct?  True\n",
      "Result saves as ./pred_show_imags\\AlexNet\\corrects\\090206_AlexNet.png...\n",
      "134 ./samples\\090213.jpg\n",
      "9 9\n",
      "Is correct?  True\n",
      "Result saves as ./pred_show_imags\\AlexNet\\corrects\\090213_AlexNet.png...\n"
     ]
    },
    {
     "data": {
      "text/plain": [
       "<Figure size 4000x2000 with 0 Axes>"
      ]
     },
     "metadata": {},
     "output_type": "display_data"
    },
    {
     "data": {
      "text/plain": [
       "<Figure size 4000x2000 with 0 Axes>"
      ]
     },
     "metadata": {},
     "output_type": "display_data"
    },
    {
     "data": {
      "text/plain": [
       "<Figure size 4000x2000 with 0 Axes>"
      ]
     },
     "metadata": {},
     "output_type": "display_data"
    },
    {
     "data": {
      "text/plain": [
       "<Figure size 4000x2000 with 0 Axes>"
      ]
     },
     "metadata": {},
     "output_type": "display_data"
    },
    {
     "data": {
      "text/plain": [
       "<Figure size 4000x2000 with 0 Axes>"
      ]
     },
     "metadata": {},
     "output_type": "display_data"
    },
    {
     "data": {
      "text/plain": [
       "<Figure size 4000x2000 with 0 Axes>"
      ]
     },
     "metadata": {},
     "output_type": "display_data"
    },
    {
     "data": {
      "text/plain": [
       "<Figure size 4000x2000 with 0 Axes>"
      ]
     },
     "metadata": {},
     "output_type": "display_data"
    },
    {
     "data": {
      "text/plain": [
       "<Figure size 4000x2000 with 0 Axes>"
      ]
     },
     "metadata": {},
     "output_type": "display_data"
    },
    {
     "data": {
      "text/plain": [
       "<Figure size 4000x2000 with 0 Axes>"
      ]
     },
     "metadata": {},
     "output_type": "display_data"
    },
    {
     "data": {
      "text/plain": [
       "<Figure size 4000x2000 with 0 Axes>"
      ]
     },
     "metadata": {},
     "output_type": "display_data"
    },
    {
     "data": {
      "text/plain": [
       "<Figure size 4000x2000 with 0 Axes>"
      ]
     },
     "metadata": {},
     "output_type": "display_data"
    },
    {
     "data": {
      "text/plain": [
       "<Figure size 4000x2000 with 0 Axes>"
      ]
     },
     "metadata": {},
     "output_type": "display_data"
    },
    {
     "data": {
      "text/plain": [
       "<Figure size 4000x2000 with 0 Axes>"
      ]
     },
     "metadata": {},
     "output_type": "display_data"
    },
    {
     "data": {
      "text/plain": [
       "<Figure size 4000x2000 with 0 Axes>"
      ]
     },
     "metadata": {},
     "output_type": "display_data"
    },
    {
     "data": {
      "text/plain": [
       "<Figure size 4000x2000 with 0 Axes>"
      ]
     },
     "metadata": {},
     "output_type": "display_data"
    },
    {
     "data": {
      "text/plain": [
       "<Figure size 4000x2000 with 0 Axes>"
      ]
     },
     "metadata": {},
     "output_type": "display_data"
    },
    {
     "data": {
      "text/plain": [
       "<Figure size 4000x2000 with 0 Axes>"
      ]
     },
     "metadata": {},
     "output_type": "display_data"
    },
    {
     "data": {
      "text/plain": [
       "<Figure size 4000x2000 with 0 Axes>"
      ]
     },
     "metadata": {},
     "output_type": "display_data"
    },
    {
     "data": {
      "text/plain": [
       "<Figure size 4000x2000 with 0 Axes>"
      ]
     },
     "metadata": {},
     "output_type": "display_data"
    },
    {
     "data": {
      "text/plain": [
       "<Figure size 4000x2000 with 0 Axes>"
      ]
     },
     "metadata": {},
     "output_type": "display_data"
    },
    {
     "data": {
      "text/plain": [
       "<Figure size 4000x2000 with 0 Axes>"
      ]
     },
     "metadata": {},
     "output_type": "display_data"
    },
    {
     "data": {
      "text/plain": [
       "<Figure size 4000x2000 with 0 Axes>"
      ]
     },
     "metadata": {},
     "output_type": "display_data"
    },
    {
     "data": {
      "text/plain": [
       "<Figure size 4000x2000 with 0 Axes>"
      ]
     },
     "metadata": {},
     "output_type": "display_data"
    },
    {
     "data": {
      "text/plain": [
       "<Figure size 4000x2000 with 0 Axes>"
      ]
     },
     "metadata": {},
     "output_type": "display_data"
    },
    {
     "data": {
      "text/plain": [
       "<Figure size 4000x2000 with 0 Axes>"
      ]
     },
     "metadata": {},
     "output_type": "display_data"
    },
    {
     "data": {
      "text/plain": [
       "<Figure size 4000x2000 with 0 Axes>"
      ]
     },
     "metadata": {},
     "output_type": "display_data"
    },
    {
     "data": {
      "text/plain": [
       "<Figure size 4000x2000 with 0 Axes>"
      ]
     },
     "metadata": {},
     "output_type": "display_data"
    },
    {
     "data": {
      "text/plain": [
       "<Figure size 4000x2000 with 0 Axes>"
      ]
     },
     "metadata": {},
     "output_type": "display_data"
    },
    {
     "data": {
      "text/plain": [
       "<Figure size 4000x2000 with 0 Axes>"
      ]
     },
     "metadata": {},
     "output_type": "display_data"
    },
    {
     "data": {
      "text/plain": [
       "<Figure size 4000x2000 with 0 Axes>"
      ]
     },
     "metadata": {},
     "output_type": "display_data"
    },
    {
     "data": {
      "text/plain": [
       "<Figure size 4000x2000 with 0 Axes>"
      ]
     },
     "metadata": {},
     "output_type": "display_data"
    },
    {
     "data": {
      "text/plain": [
       "<Figure size 4000x2000 with 0 Axes>"
      ]
     },
     "metadata": {},
     "output_type": "display_data"
    },
    {
     "data": {
      "text/plain": [
       "<Figure size 4000x2000 with 0 Axes>"
      ]
     },
     "metadata": {},
     "output_type": "display_data"
    },
    {
     "data": {
      "text/plain": [
       "<Figure size 4000x2000 with 0 Axes>"
      ]
     },
     "metadata": {},
     "output_type": "display_data"
    },
    {
     "data": {
      "text/plain": [
       "<Figure size 4000x2000 with 0 Axes>"
      ]
     },
     "metadata": {},
     "output_type": "display_data"
    },
    {
     "data": {
      "text/plain": [
       "<Figure size 4000x2000 with 0 Axes>"
      ]
     },
     "metadata": {},
     "output_type": "display_data"
    },
    {
     "data": {
      "text/plain": [
       "<Figure size 4000x2000 with 0 Axes>"
      ]
     },
     "metadata": {},
     "output_type": "display_data"
    },
    {
     "data": {
      "text/plain": [
       "<Figure size 4000x2000 with 0 Axes>"
      ]
     },
     "metadata": {},
     "output_type": "display_data"
    },
    {
     "data": {
      "text/plain": [
       "<Figure size 4000x2000 with 0 Axes>"
      ]
     },
     "metadata": {},
     "output_type": "display_data"
    },
    {
     "data": {
      "text/plain": [
       "<Figure size 4000x2000 with 0 Axes>"
      ]
     },
     "metadata": {},
     "output_type": "display_data"
    },
    {
     "data": {
      "text/plain": [
       "<Figure size 4000x2000 with 0 Axes>"
      ]
     },
     "metadata": {},
     "output_type": "display_data"
    },
    {
     "data": {
      "text/plain": [
       "<Figure size 4000x2000 with 0 Axes>"
      ]
     },
     "metadata": {},
     "output_type": "display_data"
    },
    {
     "data": {
      "text/plain": [
       "<Figure size 4000x2000 with 0 Axes>"
      ]
     },
     "metadata": {},
     "output_type": "display_data"
    },
    {
     "data": {
      "text/plain": [
       "<Figure size 4000x2000 with 0 Axes>"
      ]
     },
     "metadata": {},
     "output_type": "display_data"
    },
    {
     "data": {
      "text/plain": [
       "<Figure size 4000x2000 with 0 Axes>"
      ]
     },
     "metadata": {},
     "output_type": "display_data"
    },
    {
     "data": {
      "text/plain": [
       "<Figure size 4000x2000 with 0 Axes>"
      ]
     },
     "metadata": {},
     "output_type": "display_data"
    },
    {
     "data": {
      "text/plain": [
       "<Figure size 4000x2000 with 0 Axes>"
      ]
     },
     "metadata": {},
     "output_type": "display_data"
    },
    {
     "data": {
      "text/plain": [
       "<Figure size 4000x2000 with 0 Axes>"
      ]
     },
     "metadata": {},
     "output_type": "display_data"
    },
    {
     "data": {
      "text/plain": [
       "<Figure size 4000x2000 with 0 Axes>"
      ]
     },
     "metadata": {},
     "output_type": "display_data"
    },
    {
     "data": {
      "text/plain": [
       "<Figure size 4000x2000 with 0 Axes>"
      ]
     },
     "metadata": {},
     "output_type": "display_data"
    },
    {
     "data": {
      "text/plain": [
       "<Figure size 4000x2000 with 0 Axes>"
      ]
     },
     "metadata": {},
     "output_type": "display_data"
    },
    {
     "data": {
      "text/plain": [
       "<Figure size 4000x2000 with 0 Axes>"
      ]
     },
     "metadata": {},
     "output_type": "display_data"
    },
    {
     "data": {
      "text/plain": [
       "<Figure size 4000x2000 with 0 Axes>"
      ]
     },
     "metadata": {},
     "output_type": "display_data"
    },
    {
     "data": {
      "text/plain": [
       "<Figure size 4000x2000 with 0 Axes>"
      ]
     },
     "metadata": {},
     "output_type": "display_data"
    },
    {
     "data": {
      "text/plain": [
       "<Figure size 4000x2000 with 0 Axes>"
      ]
     },
     "metadata": {},
     "output_type": "display_data"
    },
    {
     "data": {
      "text/plain": [
       "<Figure size 4000x2000 with 0 Axes>"
      ]
     },
     "metadata": {},
     "output_type": "display_data"
    },
    {
     "data": {
      "text/plain": [
       "<Figure size 4000x2000 with 0 Axes>"
      ]
     },
     "metadata": {},
     "output_type": "display_data"
    },
    {
     "data": {
      "text/plain": [
       "<Figure size 4000x2000 with 0 Axes>"
      ]
     },
     "metadata": {},
     "output_type": "display_data"
    },
    {
     "data": {
      "text/plain": [
       "<Figure size 4000x2000 with 0 Axes>"
      ]
     },
     "metadata": {},
     "output_type": "display_data"
    },
    {
     "data": {
      "text/plain": [
       "<Figure size 4000x2000 with 0 Axes>"
      ]
     },
     "metadata": {},
     "output_type": "display_data"
    },
    {
     "data": {
      "text/plain": [
       "<Figure size 4000x2000 with 0 Axes>"
      ]
     },
     "metadata": {},
     "output_type": "display_data"
    },
    {
     "data": {
      "text/plain": [
       "<Figure size 4000x2000 with 0 Axes>"
      ]
     },
     "metadata": {},
     "output_type": "display_data"
    },
    {
     "data": {
      "text/plain": [
       "<Figure size 4000x2000 with 0 Axes>"
      ]
     },
     "metadata": {},
     "output_type": "display_data"
    },
    {
     "data": {
      "text/plain": [
       "<Figure size 4000x2000 with 0 Axes>"
      ]
     },
     "metadata": {},
     "output_type": "display_data"
    },
    {
     "data": {
      "text/plain": [
       "<Figure size 4000x2000 with 0 Axes>"
      ]
     },
     "metadata": {},
     "output_type": "display_data"
    },
    {
     "data": {
      "text/plain": [
       "<Figure size 4000x2000 with 0 Axes>"
      ]
     },
     "metadata": {},
     "output_type": "display_data"
    },
    {
     "data": {
      "text/plain": [
       "<Figure size 4000x2000 with 0 Axes>"
      ]
     },
     "metadata": {},
     "output_type": "display_data"
    },
    {
     "data": {
      "text/plain": [
       "<Figure size 4000x2000 with 0 Axes>"
      ]
     },
     "metadata": {},
     "output_type": "display_data"
    },
    {
     "data": {
      "text/plain": [
       "<Figure size 4000x2000 with 0 Axes>"
      ]
     },
     "metadata": {},
     "output_type": "display_data"
    },
    {
     "data": {
      "text/plain": [
       "<Figure size 4000x2000 with 0 Axes>"
      ]
     },
     "metadata": {},
     "output_type": "display_data"
    },
    {
     "data": {
      "text/plain": [
       "<Figure size 4000x2000 with 0 Axes>"
      ]
     },
     "metadata": {},
     "output_type": "display_data"
    },
    {
     "data": {
      "text/plain": [
       "<Figure size 4000x2000 with 0 Axes>"
      ]
     },
     "metadata": {},
     "output_type": "display_data"
    },
    {
     "data": {
      "text/plain": [
       "<Figure size 4000x2000 with 0 Axes>"
      ]
     },
     "metadata": {},
     "output_type": "display_data"
    },
    {
     "data": {
      "text/plain": [
       "<Figure size 4000x2000 with 0 Axes>"
      ]
     },
     "metadata": {},
     "output_type": "display_data"
    },
    {
     "data": {
      "text/plain": [
       "<Figure size 4000x2000 with 0 Axes>"
      ]
     },
     "metadata": {},
     "output_type": "display_data"
    },
    {
     "data": {
      "text/plain": [
       "<Figure size 4000x2000 with 0 Axes>"
      ]
     },
     "metadata": {},
     "output_type": "display_data"
    },
    {
     "data": {
      "text/plain": [
       "<Figure size 4000x2000 with 0 Axes>"
      ]
     },
     "metadata": {},
     "output_type": "display_data"
    },
    {
     "data": {
      "text/plain": [
       "<Figure size 4000x2000 with 0 Axes>"
      ]
     },
     "metadata": {},
     "output_type": "display_data"
    },
    {
     "data": {
      "text/plain": [
       "<Figure size 4000x2000 with 0 Axes>"
      ]
     },
     "metadata": {},
     "output_type": "display_data"
    },
    {
     "data": {
      "text/plain": [
       "<Figure size 4000x2000 with 0 Axes>"
      ]
     },
     "metadata": {},
     "output_type": "display_data"
    },
    {
     "data": {
      "text/plain": [
       "<Figure size 4000x2000 with 0 Axes>"
      ]
     },
     "metadata": {},
     "output_type": "display_data"
    },
    {
     "data": {
      "text/plain": [
       "<Figure size 4000x2000 with 0 Axes>"
      ]
     },
     "metadata": {},
     "output_type": "display_data"
    },
    {
     "data": {
      "text/plain": [
       "<Figure size 4000x2000 with 0 Axes>"
      ]
     },
     "metadata": {},
     "output_type": "display_data"
    },
    {
     "data": {
      "text/plain": [
       "<Figure size 4000x2000 with 0 Axes>"
      ]
     },
     "metadata": {},
     "output_type": "display_data"
    },
    {
     "data": {
      "text/plain": [
       "<Figure size 4000x2000 with 0 Axes>"
      ]
     },
     "metadata": {},
     "output_type": "display_data"
    },
    {
     "data": {
      "text/plain": [
       "<Figure size 4000x2000 with 0 Axes>"
      ]
     },
     "metadata": {},
     "output_type": "display_data"
    },
    {
     "data": {
      "text/plain": [
       "<Figure size 4000x2000 with 0 Axes>"
      ]
     },
     "metadata": {},
     "output_type": "display_data"
    },
    {
     "data": {
      "text/plain": [
       "<Figure size 4000x2000 with 0 Axes>"
      ]
     },
     "metadata": {},
     "output_type": "display_data"
    },
    {
     "data": {
      "text/plain": [
       "<Figure size 4000x2000 with 0 Axes>"
      ]
     },
     "metadata": {},
     "output_type": "display_data"
    },
    {
     "data": {
      "text/plain": [
       "<Figure size 4000x2000 with 0 Axes>"
      ]
     },
     "metadata": {},
     "output_type": "display_data"
    },
    {
     "data": {
      "text/plain": [
       "<Figure size 4000x2000 with 0 Axes>"
      ]
     },
     "metadata": {},
     "output_type": "display_data"
    },
    {
     "data": {
      "text/plain": [
       "<Figure size 4000x2000 with 0 Axes>"
      ]
     },
     "metadata": {},
     "output_type": "display_data"
    },
    {
     "data": {
      "text/plain": [
       "<Figure size 4000x2000 with 0 Axes>"
      ]
     },
     "metadata": {},
     "output_type": "display_data"
    },
    {
     "data": {
      "text/plain": [
       "<Figure size 4000x2000 with 0 Axes>"
      ]
     },
     "metadata": {},
     "output_type": "display_data"
    },
    {
     "data": {
      "text/plain": [
       "<Figure size 4000x2000 with 0 Axes>"
      ]
     },
     "metadata": {},
     "output_type": "display_data"
    },
    {
     "data": {
      "text/plain": [
       "<Figure size 4000x2000 with 0 Axes>"
      ]
     },
     "metadata": {},
     "output_type": "display_data"
    },
    {
     "data": {
      "text/plain": [
       "<Figure size 4000x2000 with 0 Axes>"
      ]
     },
     "metadata": {},
     "output_type": "display_data"
    },
    {
     "data": {
      "text/plain": [
       "<Figure size 4000x2000 with 0 Axes>"
      ]
     },
     "metadata": {},
     "output_type": "display_data"
    },
    {
     "data": {
      "text/plain": [
       "<Figure size 4000x2000 with 0 Axes>"
      ]
     },
     "metadata": {},
     "output_type": "display_data"
    },
    {
     "data": {
      "text/plain": [
       "<Figure size 4000x2000 with 0 Axes>"
      ]
     },
     "metadata": {},
     "output_type": "display_data"
    },
    {
     "data": {
      "text/plain": [
       "<Figure size 4000x2000 with 0 Axes>"
      ]
     },
     "metadata": {},
     "output_type": "display_data"
    },
    {
     "data": {
      "text/plain": [
       "<Figure size 4000x2000 with 0 Axes>"
      ]
     },
     "metadata": {},
     "output_type": "display_data"
    },
    {
     "data": {
      "text/plain": [
       "<Figure size 4000x2000 with 0 Axes>"
      ]
     },
     "metadata": {},
     "output_type": "display_data"
    },
    {
     "data": {
      "text/plain": [
       "<Figure size 4000x2000 with 0 Axes>"
      ]
     },
     "metadata": {},
     "output_type": "display_data"
    },
    {
     "data": {
      "text/plain": [
       "<Figure size 4000x2000 with 0 Axes>"
      ]
     },
     "metadata": {},
     "output_type": "display_data"
    },
    {
     "data": {
      "text/plain": [
       "<Figure size 4000x2000 with 0 Axes>"
      ]
     },
     "metadata": {},
     "output_type": "display_data"
    },
    {
     "data": {
      "text/plain": [
       "<Figure size 4000x2000 with 0 Axes>"
      ]
     },
     "metadata": {},
     "output_type": "display_data"
    },
    {
     "data": {
      "text/plain": [
       "<Figure size 4000x2000 with 0 Axes>"
      ]
     },
     "metadata": {},
     "output_type": "display_data"
    },
    {
     "data": {
      "text/plain": [
       "<Figure size 4000x2000 with 0 Axes>"
      ]
     },
     "metadata": {},
     "output_type": "display_data"
    },
    {
     "data": {
      "text/plain": [
       "<Figure size 4000x2000 with 0 Axes>"
      ]
     },
     "metadata": {},
     "output_type": "display_data"
    },
    {
     "data": {
      "text/plain": [
       "<Figure size 4000x2000 with 0 Axes>"
      ]
     },
     "metadata": {},
     "output_type": "display_data"
    },
    {
     "data": {
      "text/plain": [
       "<Figure size 4000x2000 with 0 Axes>"
      ]
     },
     "metadata": {},
     "output_type": "display_data"
    },
    {
     "data": {
      "text/plain": [
       "<Figure size 4000x2000 with 0 Axes>"
      ]
     },
     "metadata": {},
     "output_type": "display_data"
    },
    {
     "data": {
      "text/plain": [
       "<Figure size 4000x2000 with 0 Axes>"
      ]
     },
     "metadata": {},
     "output_type": "display_data"
    },
    {
     "data": {
      "text/plain": [
       "<Figure size 4000x2000 with 0 Axes>"
      ]
     },
     "metadata": {},
     "output_type": "display_data"
    },
    {
     "data": {
      "text/plain": [
       "<Figure size 4000x2000 with 0 Axes>"
      ]
     },
     "metadata": {},
     "output_type": "display_data"
    },
    {
     "data": {
      "text/plain": [
       "<Figure size 4000x2000 with 0 Axes>"
      ]
     },
     "metadata": {},
     "output_type": "display_data"
    },
    {
     "data": {
      "text/plain": [
       "<Figure size 4000x2000 with 0 Axes>"
      ]
     },
     "metadata": {},
     "output_type": "display_data"
    },
    {
     "data": {
      "text/plain": [
       "<Figure size 4000x2000 with 0 Axes>"
      ]
     },
     "metadata": {},
     "output_type": "display_data"
    },
    {
     "data": {
      "text/plain": [
       "<Figure size 4000x2000 with 0 Axes>"
      ]
     },
     "metadata": {},
     "output_type": "display_data"
    },
    {
     "data": {
      "text/plain": [
       "<Figure size 4000x2000 with 0 Axes>"
      ]
     },
     "metadata": {},
     "output_type": "display_data"
    },
    {
     "data": {
      "text/plain": [
       "<Figure size 4000x2000 with 0 Axes>"
      ]
     },
     "metadata": {},
     "output_type": "display_data"
    },
    {
     "data": {
      "text/plain": [
       "<Figure size 4000x2000 with 0 Axes>"
      ]
     },
     "metadata": {},
     "output_type": "display_data"
    },
    {
     "data": {
      "text/plain": [
       "<Figure size 4000x2000 with 0 Axes>"
      ]
     },
     "metadata": {},
     "output_type": "display_data"
    },
    {
     "data": {
      "text/plain": [
       "<Figure size 4000x2000 with 0 Axes>"
      ]
     },
     "metadata": {},
     "output_type": "display_data"
    },
    {
     "data": {
      "text/plain": [
       "<Figure size 4000x2000 with 0 Axes>"
      ]
     },
     "metadata": {},
     "output_type": "display_data"
    },
    {
     "data": {
      "text/plain": [
       "<Figure size 4000x2000 with 0 Axes>"
      ]
     },
     "metadata": {},
     "output_type": "display_data"
    },
    {
     "data": {
      "text/plain": [
       "<Figure size 4000x2000 with 0 Axes>"
      ]
     },
     "metadata": {},
     "output_type": "display_data"
    },
    {
     "data": {
      "text/plain": [
       "<Figure size 4000x2000 with 0 Axes>"
      ]
     },
     "metadata": {},
     "output_type": "display_data"
    },
    {
     "data": {
      "text/plain": [
       "<Figure size 4000x2000 with 0 Axes>"
      ]
     },
     "metadata": {},
     "output_type": "display_data"
    },
    {
     "data": {
      "text/plain": [
       "<Figure size 4000x2000 with 0 Axes>"
      ]
     },
     "metadata": {},
     "output_type": "display_data"
    },
    {
     "data": {
      "text/plain": [
       "<Figure size 4000x2000 with 0 Axes>"
      ]
     },
     "metadata": {},
     "output_type": "display_data"
    },
    {
     "data": {
      "text/plain": [
       "<Figure size 4000x2000 with 0 Axes>"
      ]
     },
     "metadata": {},
     "output_type": "display_data"
    },
    {
     "data": {
      "text/plain": [
       "<Figure size 4000x2000 with 0 Axes>"
      ]
     },
     "metadata": {},
     "output_type": "display_data"
    },
    {
     "data": {
      "text/plain": [
       "<Figure size 4000x2000 with 0 Axes>"
      ]
     },
     "metadata": {},
     "output_type": "display_data"
    }
   ],
   "source": [
    "model_name = 'AlexNet'\n",
    "\n",
    "# len(imgs)\n",
    "# for i, fn in enumerate(imgs[:100]):\n",
    "# for i, fn in enumerate(imgs[100:200]):\n",
    "# for i, fn in enumerate(imgs[200:300]):\n",
    "for i, fn in enumerate(imgs[300:]):\n",
    "    print(i, fn)\n",
    "    is_correct, probs = pred_single_image(model_name, data_transforms, fn)\n",
    "    plot_probs(image_path=fn, modelname=model_name, probs=probs, is_correct=is_correct)"
   ]
  },
  {
   "cell_type": "code",
   "execution_count": 47,
   "metadata": {},
   "outputs": [],
   "source": [
    "# model_name = 'ResNet152'\n",
    "\n",
    "# len(imgs)\n",
    "# for i, fn in enumerate(imgs[:100]):\n",
    "# for i, fn in enumerate(imgs[100:200]):\n",
    "# for i, fn in enumerate(imgs[200:300]):\n",
    "# for i, fn in enumerate(imgs[300:]):\n",
    "#     print(i, fn)\n",
    "#     is_correct, probs = pred_single_image(model_name, data_transforms, fn)\n",
    "#     plot_probs(image_path=fn, modelname=model_name, probs=probs, is_correct=is_correct)"
   ]
  },
  {
   "cell_type": "code",
   "execution_count": null,
   "metadata": {},
   "outputs": [],
   "source": []
  }
 ],
 "metadata": {
  "kernelspec": {
   "display_name": "Python 3",
   "language": "python",
   "name": "python3"
  },
  "language_info": {
   "codemirror_mode": {
    "name": "ipython",
    "version": 3
   },
   "file_extension": ".py",
   "mimetype": "text/x-python",
   "name": "python",
   "nbconvert_exporter": "python",
   "pygments_lexer": "ipython3",
   "version": "3.7.4"
  }
 },
 "nbformat": 4,
 "nbformat_minor": 4
}
