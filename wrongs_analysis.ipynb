{
 "cells": [
  {
   "cell_type": "code",
   "execution_count": 1,
   "metadata": {},
   "outputs": [],
   "source": [
    "import os\n",
    "import numpy as np\n",
    "import pandas as pd\n",
    "import matplotlib.pyplot as plt\n",
    "import torch\n",
    "from torchvision import transforms\n",
    "import torch.nn as nn\n",
    "from PIL import Image\n",
    "\n",
    "class2num = {'broad leaves': 0, 'coniferous tree': 1, 'grass land': 2, 'hard ground': 3, 'leafless': 4, 'stalk': 5, 'stone': 6, 'trunk': 7, 'water': 8, 'wire': 9}\n",
    "num2class = {0: 'broad leaves', 1: 'coniferous tree', 2: 'grass land', 3: 'hard ground', 4: 'leafless', 5: 'stalk', 6: 'stone', 7: 'trunk', 8: 'water', 9: 'wire'}\n",
    "id2num = {\n",
    "        '0' : class2num['broad leaves'],\n",
    "        '1' : class2num['coniferous tree'],\n",
    "        '2' : class2num['hard ground'],\n",
    "        '3' : class2num['leafless'],\n",
    "        '4' : class2num['stalk'],\n",
    "        '5' : class2num['stone'],\n",
    "        '6' : class2num['trunk'],\n",
    "        '7' : class2num['grass land'],\n",
    "        '8' : class2num['water'],\n",
    "        '9' : class2num['wire'],\n",
    "        }"
   ]
  },
  {
   "cell_type": "code",
   "execution_count": 2,
   "metadata": {},
   "outputs": [],
   "source": [
    "wrongs = os.listdir('./pred_show_imags/wrongs')\n",
    "df = pd.DataFrame(wrongs, columns=['original_fn'])\n",
    "df['fn_without_exif'] = df['original_fn'].apply(lambda x: x.strip('.png'))\n",
    "df['fn_id'] = df['fn_without_exif'].apply(lambda x: x.split('_')[0])\n",
    "df['fn_model'] = df['fn_without_exif'].apply(lambda x: x.split('_')[1])\n",
    "df['category'] = df['fn_id'].apply(lambda x: num2class[id2num[x[1]]])"
   ]
  },
  {
   "cell_type": "code",
   "execution_count": 4,
   "metadata": {},
   "outputs": [],
   "source": [
    "# df.to_excel('wrongs.xls')"
   ]
  },
  {
   "cell_type": "code",
   "execution_count": 5,
   "metadata": {},
   "outputs": [],
   "source": [
    "wrongs_id_list = df['fn_id'].unique().tolist()"
   ]
  },
  {
   "cell_type": "code",
   "execution_count": 6,
   "metadata": {},
   "outputs": [
    {
     "data": {
      "text/plain": [
       "True"
      ]
     },
     "execution_count": 6,
     "metadata": {},
     "output_type": "execute_result"
    }
   ],
   "source": [
    "s = 'gjghjg'\n",
    "s.find('j')\n",
    "s.startswith('g')"
   ]
  },
  {
   "cell_type": "code",
   "execution_count": 13,
   "metadata": {},
   "outputs": [
    {
     "data": {
      "text/plain": [
       "56"
      ]
     },
     "execution_count": 13,
     "metadata": {},
     "output_type": "execute_result"
    }
   ],
   "source": [
    "imgs = os.listdir('./samples/')\n",
    "# imgs = [os.path.join('./samples', img) for img in imgs]\n",
    "\n",
    "wrong_images = []\n",
    "for fn in imgs:\n",
    "    if fn.split('.')[0] in wrongs_id_list:\n",
    "#         print(fn)\n",
    "        wrong_images.append(os.path.join('./samples', fn))\n",
    "len(wrong_images)"
   ]
  },
  {
   "cell_type": "code",
   "execution_count": 8,
   "metadata": {},
   "outputs": [],
   "source": [
    "def pred_single_image(modelname, data_transforms, img_path):\n",
    "    im = Image.open(img_path).convert(\"RGB\")\n",
    "    tsr = data_transforms(im).unsqueeze(0).to(device)\n",
    "    outputs = models[modelname](tsr)\n",
    "    probs = nn.functional.softmax(outputs, dim=1).squeeze()\n",
    "    probs = probs.detach().numpy()\n",
    "    pre_label_id = probs.argmax()\n",
    "    true_label_id = imgName2num(img_path)\n",
    "    true_label = num2class[true_label_id]\n",
    "    pred_label = num2class[pre_label_id]\n",
    "#     print(pre_label_id, true_label_id)\n",
    "    is_correct = (pre_label_id==true_label_id)\n",
    "#     print('Is correct:', is_correct, 'True Label:', true_label, 'Predicted Label:',pred_label)\n",
    "    return is_correct, probs, true_label, pred_label\n",
    "\n",
    "    \n",
    "def imgName2num(image_path):\n",
    "    baseName = os.path.basename(image_path)\n",
    "    folder_id = baseName[1]\n",
    "    id2num = {\n",
    "        '0' : class2num['broad leaves'],\n",
    "        '1' : class2num['coniferous tree'],\n",
    "        '2' : class2num['hard ground'],\n",
    "        '3' : class2num['leafless'],\n",
    "        '4' : class2num['stalk'],\n",
    "        '5' : class2num['stone'],\n",
    "        '6' : class2num['trunk'],\n",
    "        '7' : class2num['grass land'],\n",
    "        '8' : class2num['water'],\n",
    "        '9' : class2num['wire'],\n",
    "    }\n",
    "#     print(baseName, folder_id)\n",
    "    return id2num[str(folder_id)]\n",
    "    "
   ]
  },
  {
   "cell_type": "code",
   "execution_count": 9,
   "metadata": {},
   "outputs": [],
   "source": [
    "alexnet = torch.load('alexnet-111_10_5_5.pkl', map_location=torch.device('cpu'))\n",
    "vgg19 = torch.load('vgg19-111_8_5_5.pkl', map_location=torch.device('cpu'))\n",
    "res50 = torch.load('resnet50-111_3_5_5.pkl', map_location=torch.device('cpu'))\n",
    "res152 = torch.load('resnet152-111_5_5_5.pkl', map_location=torch.device('cpu'))\n",
    "\n",
    "models = {\n",
    "    'AlexNet'    :alexnet,\n",
    "    'VGG19'     :vgg19,\n",
    "    'ResNet50'  :res50,\n",
    "    'ResNet152' :res152\n",
    "}\n",
    "resize = 224\n",
    "mean = [0.485, 0.456, 0.406]\n",
    "std = [0.229, 0.224, 0.225]\n",
    "device = torch.device('cpu')\n",
    "\n",
    "data_transforms = transforms.Compose([\n",
    "    transforms.Resize((resize, resize)),\n",
    "    transforms.ToTensor(),\n",
    "    transforms.Normalize(mean, std)\n",
    "    ])\n",
    "\n",
    "\n",
    "model_name = 'ResNet152'\n",
    "\n",
    "image_path = './samples/000019.jpg'\n",
    "is_correct, probs, true_label, pred_label = pred_single_image(model_name, data_transforms, image_path)"
   ]
  },
  {
   "cell_type": "code",
   "execution_count": 16,
   "metadata": {},
   "outputs": [
    {
     "name": "stdout",
     "output_type": "stream",
     "text": [
      "0 broad leaves coniferous tree broad leaves broad leaves broad leaves\n",
      "1 broad leaves leafless leafless leafless leafless\n",
      "2 broad leaves broad leaves stalk broad leaves broad leaves\n",
      "3 broad leaves broad leaves stalk broad leaves broad leaves\n",
      "4 coniferous tree broad leaves coniferous tree coniferous tree coniferous tree\n",
      "5 coniferous tree broad leaves coniferous tree coniferous tree coniferous tree\n",
      "6 coniferous tree wire wire wire wire\n",
      "7 coniferous tree leafless coniferous tree coniferous tree coniferous tree\n",
      "8 coniferous tree stalk coniferous tree coniferous tree coniferous tree\n",
      "9 coniferous tree coniferous tree grass land coniferous tree coniferous tree\n",
      "10 coniferous tree broad leaves coniferous tree coniferous tree coniferous tree\n",
      "11 coniferous tree coniferous tree trunk trunk trunk\n",
      "12 coniferous tree stone stone coniferous tree coniferous tree\n",
      "13 coniferous tree grass land coniferous tree coniferous tree coniferous tree\n",
      "14 hard ground stalk hard ground hard ground hard ground\n",
      "15 hard ground stone stone stone stone\n",
      "16 hard ground water hard ground hard ground hard ground\n",
      "17 hard ground water hard ground water hard ground\n",
      "18 hard ground water hard ground hard ground hard ground\n",
      "19 leafless wire wire leafless leafless\n",
      "20 leafless wire leafless leafless leafless\n",
      "21 leafless wire wire leafless leafless\n",
      "22 leafless leafless leafless stalk stalk\n",
      "23 leafless wire leafless leafless leafless\n",
      "24 leafless leafless stalk stalk leafless\n",
      "25 leafless wire leafless leafless leafless\n",
      "26 leafless stone stone leafless leafless\n",
      "27 leafless leafless leafless stalk stalk\n",
      "28 leafless wire leafless leafless stalk\n",
      "29 leafless leafless stalk leafless leafless\n",
      "30 leafless leafless stalk stalk leafless\n",
      "31 leafless stalk stalk stalk stalk\n",
      "32 leafless stalk stalk stalk stalk\n",
      "33 stalk broad leaves stalk stalk stalk\n",
      "34 stalk stalk broad leaves broad leaves broad leaves\n",
      "35 stalk broad leaves stalk stalk broad leaves\n",
      "36 stalk wire wire stalk stalk\n",
      "37 stalk stalk stalk leafless leafless\n",
      "38 stalk leafless stalk leafless leafless\n",
      "39 stalk broad leaves coniferous tree grass land grass land\n",
      "40 stone grass land grass land grass land grass land\n",
      "41 stone water stone stone stone\n",
      "42 stone coniferous tree broad leaves coniferous tree stone\n",
      "43 stone trunk stone stone stone\n",
      "44 stone leafless stone stone stone\n",
      "45 stone stone water stone water\n",
      "46 stone stone stone stone trunk\n",
      "47 trunk leafless trunk trunk trunk\n",
      "48 trunk leafless leafless leafless leafless\n",
      "49 trunk leafless trunk trunk trunk\n",
      "50 trunk trunk stalk trunk trunk\n",
      "51 grass land coniferous tree grass land grass land grass land\n",
      "52 grass land grass land grass land stone stone\n",
      "53 grass land broad leaves grass land grass land grass land\n",
      "54 wire stalk wire stalk stalk\n",
      "55 wire wire wire leafless wire\n"
     ]
    }
   ],
   "source": [
    "columns = ['image', 'Ground Truth', 'AlexNet', 'VGG19', 'ResNet50', 'ResNet152']\n",
    "misidentified_result = []\n",
    "for i,img in enumerate(wrong_images):\n",
    "    _,_,gt,pred_label_AlexNet = pred_single_image('AlexNet', data_transforms, img)\n",
    "    _,_,_,pred_label_VGG19 = pred_single_image('VGG19', data_transforms, img)\n",
    "    _,_,_,pred_label_ResNet50 = pred_single_image('ResNet50', data_transforms, img)\n",
    "    _,_,_,pred_label_ResNet152 = pred_single_image('ResNet152', data_transforms, img)\n",
    "    \n",
    "    print(i, gt, pred_label_AlexNet, pred_label_VGG19, pred_label_ResNet50, pred_label_ResNet152)\n",
    "    misidentified_result.append([img, gt, pred_label_AlexNet, pred_label_VGG19, pred_label_ResNet50, pred_label_ResNet152])"
   ]
  },
  {
   "cell_type": "code",
   "execution_count": 24,
   "metadata": {},
   "outputs": [
    {
     "data": {
      "text/html": [
       "<div>\n",
       "<style scoped>\n",
       "    .dataframe tbody tr th:only-of-type {\n",
       "        vertical-align: middle;\n",
       "    }\n",
       "\n",
       "    .dataframe tbody tr th {\n",
       "        vertical-align: top;\n",
       "    }\n",
       "\n",
       "    .dataframe thead th {\n",
       "        text-align: right;\n",
       "    }\n",
       "</style>\n",
       "<table border=\"1\" class=\"dataframe\">\n",
       "  <thead>\n",
       "    <tr style=\"text-align: right;\">\n",
       "      <th></th>\n",
       "      <th>image</th>\n",
       "      <th>Ground Truth</th>\n",
       "      <th>AlexNet</th>\n",
       "      <th>VGG19</th>\n",
       "      <th>ResNet50</th>\n",
       "      <th>ResNet152</th>\n",
       "    </tr>\n",
       "  </thead>\n",
       "  <tbody>\n",
       "    <tr>\n",
       "      <td>0</td>\n",
       "      <td>./samples\\000009.jpg</td>\n",
       "      <td>broad leaves</td>\n",
       "      <td>coniferous tree</td>\n",
       "      <td>broad leaves</td>\n",
       "      <td>broad leaves</td>\n",
       "      <td>broad leaves</td>\n",
       "    </tr>\n",
       "    <tr>\n",
       "      <td>1</td>\n",
       "      <td>./samples\\000019.jpg</td>\n",
       "      <td>broad leaves</td>\n",
       "      <td>leafless</td>\n",
       "      <td>leafless</td>\n",
       "      <td>leafless</td>\n",
       "      <td>leafless</td>\n",
       "    </tr>\n",
       "    <tr>\n",
       "      <td>2</td>\n",
       "      <td>./samples\\000023.jpg</td>\n",
       "      <td>broad leaves</td>\n",
       "      <td>broad leaves</td>\n",
       "      <td>stalk</td>\n",
       "      <td>broad leaves</td>\n",
       "      <td>broad leaves</td>\n",
       "    </tr>\n",
       "    <tr>\n",
       "      <td>3</td>\n",
       "      <td>./samples\\000090.jpg</td>\n",
       "      <td>broad leaves</td>\n",
       "      <td>broad leaves</td>\n",
       "      <td>stalk</td>\n",
       "      <td>broad leaves</td>\n",
       "      <td>broad leaves</td>\n",
       "    </tr>\n",
       "    <tr>\n",
       "      <td>4</td>\n",
       "      <td>./samples\\010022.jpg</td>\n",
       "      <td>coniferous tree</td>\n",
       "      <td>broad leaves</td>\n",
       "      <td>coniferous tree</td>\n",
       "      <td>coniferous tree</td>\n",
       "      <td>coniferous tree</td>\n",
       "    </tr>\n",
       "  </tbody>\n",
       "</table>\n",
       "</div>"
      ],
      "text/plain": [
       "                  image     Ground Truth          AlexNet            VGG19  \\\n",
       "0  ./samples\\000009.jpg     broad leaves  coniferous tree     broad leaves   \n",
       "1  ./samples\\000019.jpg     broad leaves         leafless         leafless   \n",
       "2  ./samples\\000023.jpg     broad leaves     broad leaves            stalk   \n",
       "3  ./samples\\000090.jpg     broad leaves     broad leaves            stalk   \n",
       "4  ./samples\\010022.jpg  coniferous tree     broad leaves  coniferous tree   \n",
       "\n",
       "          ResNet50        ResNet152  \n",
       "0     broad leaves     broad leaves  \n",
       "1         leafless         leafless  \n",
       "2     broad leaves     broad leaves  \n",
       "3     broad leaves     broad leaves  \n",
       "4  coniferous tree  coniferous tree  "
      ]
     },
     "execution_count": 24,
     "metadata": {},
     "output_type": "execute_result"
    }
   ],
   "source": [
    "df = pd.DataFrame(misidentified_result, columns=columns)\n",
    "df.head()"
   ]
  },
  {
   "cell_type": "code",
   "execution_count": null,
   "metadata": {},
   "outputs": [],
   "source": [
    "nodes = []\n"
   ]
  },
  {
   "cell_type": "code",
   "execution_count": null,
   "metadata": {},
   "outputs": [],
   "source": []
  }
 ],
 "metadata": {
  "kernelspec": {
   "display_name": "Python 3",
   "language": "python",
   "name": "python3"
  },
  "language_info": {
   "codemirror_mode": {
    "name": "ipython",
    "version": 3
   },
   "file_extension": ".py",
   "mimetype": "text/x-python",
   "name": "python",
   "nbconvert_exporter": "python",
   "pygments_lexer": "ipython3",
   "version": "3.7.4"
  }
 },
 "nbformat": 4,
 "nbformat_minor": 4
}
